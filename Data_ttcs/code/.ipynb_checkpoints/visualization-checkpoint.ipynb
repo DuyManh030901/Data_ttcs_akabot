{
 "cells": [
  {
   "cell_type": "code",
   "execution_count": 10,
   "id": "remarkable-meaning",
   "metadata": {},
   "outputs": [],
   "source": [
    "import json\n",
    "import csv\n",
    "import pandas as pd\n",
    "import numpy as np\n",
    "import plotly.graph_objects as go"
   ]
  },
  {
   "cell_type": "code",
   "execution_count": 3,
   "id": "surgical-blame",
   "metadata": {},
   "outputs": [
    {
     "data": {
      "text/html": [
       "<div>\n",
       "<style scoped>\n",
       "    .dataframe tbody tr th:only-of-type {\n",
       "        vertical-align: middle;\n",
       "    }\n",
       "\n",
       "    .dataframe tbody tr th {\n",
       "        vertical-align: top;\n",
       "    }\n",
       "\n",
       "    .dataframe thead th {\n",
       "        text-align: right;\n",
       "    }\n",
       "</style>\n",
       "<table border=\"1\" class=\"dataframe\">\n",
       "  <thead>\n",
       "    <tr style=\"text-align: right;\">\n",
       "      <th></th>\n",
       "      <th>Unnamed: 0</th>\n",
       "      <th>name</th>\n",
       "      <th>hard_drive</th>\n",
       "      <th>size</th>\n",
       "      <th>memory</th>\n",
       "      <th>price_selloff</th>\n",
       "      <th>price</th>\n",
       "      <th>brand</th>\n",
       "      <th>store</th>\n",
       "    </tr>\n",
       "  </thead>\n",
       "  <tbody>\n",
       "    <tr>\n",
       "      <th>0</th>\n",
       "      <td>0</td>\n",
       "      <td>iPhone 13 Pro Max 128GB</td>\n",
       "      <td>6</td>\n",
       "      <td>6.70</td>\n",
       "      <td>128</td>\n",
       "      <td>30490000</td>\n",
       "      <td>33990000</td>\n",
       "      <td>iPhone</td>\n",
       "      <td>fptshop</td>\n",
       "    </tr>\n",
       "    <tr>\n",
       "      <th>1</th>\n",
       "      <td>1</td>\n",
       "      <td>OPPO Reno7 Z 5G 8GB - 128GB</td>\n",
       "      <td>8</td>\n",
       "      <td>6.43</td>\n",
       "      <td>128</td>\n",
       "      <td>10490000</td>\n",
       "      <td>0</td>\n",
       "      <td>OPPO</td>\n",
       "      <td>fptshop</td>\n",
       "    </tr>\n",
       "    <tr>\n",
       "      <th>2</th>\n",
       "      <td>2</td>\n",
       "      <td>Samsung Galaxy S22 Ultra 5G 128GB</td>\n",
       "      <td>8</td>\n",
       "      <td>6.80</td>\n",
       "      <td>128</td>\n",
       "      <td>30990000</td>\n",
       "      <td>0</td>\n",
       "      <td>Samsung</td>\n",
       "      <td>fptshop</td>\n",
       "    </tr>\n",
       "    <tr>\n",
       "      <th>3</th>\n",
       "      <td>3</td>\n",
       "      <td>iPhone 11 64GB</td>\n",
       "      <td>4</td>\n",
       "      <td>6.10</td>\n",
       "      <td>64</td>\n",
       "      <td>12499000</td>\n",
       "      <td>14999000</td>\n",
       "      <td>iPhone</td>\n",
       "      <td>fptshop</td>\n",
       "    </tr>\n",
       "    <tr>\n",
       "      <th>4</th>\n",
       "      <td>4</td>\n",
       "      <td>OPPO Reno7 8GB-128GB</td>\n",
       "      <td>8</td>\n",
       "      <td>6.40</td>\n",
       "      <td>128</td>\n",
       "      <td>8490000</td>\n",
       "      <td>8990000</td>\n",
       "      <td>OPPO</td>\n",
       "      <td>fptshop</td>\n",
       "    </tr>\n",
       "    <tr>\n",
       "      <th>...</th>\n",
       "      <td>...</td>\n",
       "      <td>...</td>\n",
       "      <td>...</td>\n",
       "      <td>...</td>\n",
       "      <td>...</td>\n",
       "      <td>...</td>\n",
       "      <td>...</td>\n",
       "      <td>...</td>\n",
       "      <td>...</td>\n",
       "    </tr>\n",
       "    <tr>\n",
       "      <th>110</th>\n",
       "      <td>110</td>\n",
       "      <td>iPhone SE 2022 64GB</td>\n",
       "      <td>3</td>\n",
       "      <td>4.70</td>\n",
       "      <td>256</td>\n",
       "      <td>11990000</td>\n",
       "      <td>12990000</td>\n",
       "      <td>iPhone</td>\n",
       "      <td>fptshop</td>\n",
       "    </tr>\n",
       "    <tr>\n",
       "      <th>111</th>\n",
       "      <td>111</td>\n",
       "      <td>Xiaomi Redmi Note 11 4GB - 64GB</td>\n",
       "      <td>4</td>\n",
       "      <td>6.43</td>\n",
       "      <td>0</td>\n",
       "      <td>4490000</td>\n",
       "      <td>4690000</td>\n",
       "      <td>Xiaomi</td>\n",
       "      <td>fptshop</td>\n",
       "    </tr>\n",
       "    <tr>\n",
       "      <th>112</th>\n",
       "      <td>112</td>\n",
       "      <td>Xiaomi Redmi 9C 4GB-128GB</td>\n",
       "      <td>4</td>\n",
       "      <td>6.53</td>\n",
       "      <td>0</td>\n",
       "      <td>3290000</td>\n",
       "      <td>3490000</td>\n",
       "      <td>Xiaomi</td>\n",
       "      <td>fptshop</td>\n",
       "    </tr>\n",
       "    <tr>\n",
       "      <th>113</th>\n",
       "      <td>113</td>\n",
       "      <td>Realme C11 2021 2GB - 32GB</td>\n",
       "      <td>2</td>\n",
       "      <td>6.50</td>\n",
       "      <td>0</td>\n",
       "      <td>2690000</td>\n",
       "      <td>2990000</td>\n",
       "      <td>Realme</td>\n",
       "      <td>fptshop</td>\n",
       "    </tr>\n",
       "    <tr>\n",
       "      <th>114</th>\n",
       "      <td>114</td>\n",
       "      <td>Realme C21y 3GB - 32GB</td>\n",
       "      <td>3</td>\n",
       "      <td>6.50</td>\n",
       "      <td>0</td>\n",
       "      <td>2690000</td>\n",
       "      <td>3190000</td>\n",
       "      <td>Realme</td>\n",
       "      <td>fptshop</td>\n",
       "    </tr>\n",
       "  </tbody>\n",
       "</table>\n",
       "<p>115 rows × 9 columns</p>\n",
       "</div>"
      ],
      "text/plain": [
       "     Unnamed: 0                               name  hard_drive  size  memory  \\\n",
       "0             0            iPhone 13 Pro Max 128GB           6  6.70     128   \n",
       "1             1        OPPO Reno7 Z 5G 8GB - 128GB           8  6.43     128   \n",
       "2             2  Samsung Galaxy S22 Ultra 5G 128GB           8  6.80     128   \n",
       "3             3                     iPhone 11 64GB           4  6.10      64   \n",
       "4             4               OPPO Reno7 8GB-128GB           8  6.40     128   \n",
       "..          ...                                ...         ...   ...     ...   \n",
       "110         110                iPhone SE 2022 64GB           3  4.70     256   \n",
       "111         111    Xiaomi Redmi Note 11 4GB - 64GB           4  6.43       0   \n",
       "112         112          Xiaomi Redmi 9C 4GB-128GB           4  6.53       0   \n",
       "113         113         Realme C11 2021 2GB - 32GB           2  6.50       0   \n",
       "114         114             Realme C21y 3GB - 32GB           3  6.50       0   \n",
       "\n",
       "     price_selloff     price    brand    store  \n",
       "0         30490000  33990000   iPhone  fptshop  \n",
       "1         10490000         0     OPPO  fptshop  \n",
       "2         30990000         0  Samsung  fptshop  \n",
       "3         12499000  14999000   iPhone  fptshop  \n",
       "4          8490000   8990000     OPPO  fptshop  \n",
       "..             ...       ...      ...      ...  \n",
       "110       11990000  12990000   iPhone  fptshop  \n",
       "111        4490000   4690000   Xiaomi  fptshop  \n",
       "112        3290000   3490000   Xiaomi  fptshop  \n",
       "113        2690000   2990000   Realme  fptshop  \n",
       "114        2690000   3190000   Realme  fptshop  \n",
       "\n",
       "[115 rows x 9 columns]"
      ]
     },
     "execution_count": 3,
     "metadata": {},
     "output_type": "execute_result"
    }
   ],
   "source": [
    "datafpt = pd.read_csv('fptshop_final.csv')\n",
    "datafpt"
   ]
  },
  {
   "cell_type": "code",
   "execution_count": 7,
   "id": "younger-estonia",
   "metadata": {},
   "outputs": [
    {
     "data": {
      "text/html": [
       "<div>\n",
       "<style scoped>\n",
       "    .dataframe tbody tr th:only-of-type {\n",
       "        vertical-align: middle;\n",
       "    }\n",
       "\n",
       "    .dataframe tbody tr th {\n",
       "        vertical-align: top;\n",
       "    }\n",
       "\n",
       "    .dataframe thead th {\n",
       "        text-align: right;\n",
       "    }\n",
       "</style>\n",
       "<table border=\"1\" class=\"dataframe\">\n",
       "  <thead>\n",
       "    <tr style=\"text-align: right;\">\n",
       "      <th></th>\n",
       "      <th>Unnamed: 0</th>\n",
       "      <th>name</th>\n",
       "      <th>memory</th>\n",
       "      <th>hard_drive</th>\n",
       "      <th>size</th>\n",
       "      <th>status</th>\n",
       "      <th>price</th>\n",
       "      <th>price_selloff</th>\n",
       "      <th>ratings</th>\n",
       "      <th>brand</th>\n",
       "      <th>store</th>\n",
       "    </tr>\n",
       "  </thead>\n",
       "  <tbody>\n",
       "    <tr>\n",
       "      <th>0</th>\n",
       "      <td>0</td>\n",
       "      <td>iPhone 13 Pro Max 128GB | Chính hãng VN/A</td>\n",
       "      <td>128</td>\n",
       "      <td>6</td>\n",
       "      <td>6.7</td>\n",
       "      <td>Hàng có sẵn</td>\n",
       "      <td>34990000.0</td>\n",
       "      <td>29690000.0</td>\n",
       "      <td>26</td>\n",
       "      <td>iphone</td>\n",
       "      <td>cellphones</td>\n",
       "    </tr>\n",
       "    <tr>\n",
       "      <th>1</th>\n",
       "      <td>1</td>\n",
       "      <td>iPhone 13 128GB | Chính hãng VN/A</td>\n",
       "      <td>128</td>\n",
       "      <td>4</td>\n",
       "      <td>6.1</td>\n",
       "      <td>Hàng có sẵn</td>\n",
       "      <td>24990000.0</td>\n",
       "      <td>21700000.0</td>\n",
       "      <td>13</td>\n",
       "      <td>iphone</td>\n",
       "      <td>cellphones</td>\n",
       "    </tr>\n",
       "    <tr>\n",
       "      <th>2</th>\n",
       "      <td>2</td>\n",
       "      <td>iPhone 13 Pro 128GB | Chính hãng VN/A</td>\n",
       "      <td>128</td>\n",
       "      <td>6</td>\n",
       "      <td>6.1</td>\n",
       "      <td>Hàng có sẵn</td>\n",
       "      <td>31990000.0</td>\n",
       "      <td>27190000.0</td>\n",
       "      <td>3</td>\n",
       "      <td>iphone</td>\n",
       "      <td>cellphones</td>\n",
       "    </tr>\n",
       "    <tr>\n",
       "      <th>3</th>\n",
       "      <td>3</td>\n",
       "      <td>iPhone 13 Pro Max 256GB I Chính hãng VN/A</td>\n",
       "      <td>256</td>\n",
       "      <td>6</td>\n",
       "      <td>6.7</td>\n",
       "      <td>Hàng có sẵn</td>\n",
       "      <td>37990000.0</td>\n",
       "      <td>32190000.0</td>\n",
       "      <td>11</td>\n",
       "      <td>iphone</td>\n",
       "      <td>cellphones</td>\n",
       "    </tr>\n",
       "    <tr>\n",
       "      <th>4</th>\n",
       "      <td>4</td>\n",
       "      <td>iPhone 13 128GB - Xanh lá | Chính hãng VN/A</td>\n",
       "      <td>128</td>\n",
       "      <td>0</td>\n",
       "      <td>6.1</td>\n",
       "      <td>Hàng có sẵn</td>\n",
       "      <td>24990000.0</td>\n",
       "      <td>21800000.0</td>\n",
       "      <td>0</td>\n",
       "      <td>iphone</td>\n",
       "      <td>cellphones</td>\n",
       "    </tr>\n",
       "    <tr>\n",
       "      <th>...</th>\n",
       "      <td>...</td>\n",
       "      <td>...</td>\n",
       "      <td>...</td>\n",
       "      <td>...</td>\n",
       "      <td>...</td>\n",
       "      <td>...</td>\n",
       "      <td>...</td>\n",
       "      <td>...</td>\n",
       "      <td>...</td>\n",
       "      <td>...</td>\n",
       "      <td>...</td>\n",
       "    </tr>\n",
       "    <tr>\n",
       "      <th>90</th>\n",
       "      <td>90</td>\n",
       "      <td>Xiaomi Redmi Note 10 5G</td>\n",
       "      <td>128</td>\n",
       "      <td>4</td>\n",
       "      <td>6.5</td>\n",
       "      <td>Sắp về hàng</td>\n",
       "      <td>5290000.0</td>\n",
       "      <td>4950000.0</td>\n",
       "      <td>18</td>\n",
       "      <td>xiaomi</td>\n",
       "      <td>cellphones</td>\n",
       "    </tr>\n",
       "    <tr>\n",
       "      <th>91</th>\n",
       "      <td>91</td>\n",
       "      <td>Xiaomi Redmi 9C 3GB - 64GB</td>\n",
       "      <td>64</td>\n",
       "      <td>3</td>\n",
       "      <td>6.5</td>\n",
       "      <td>Hàng có sẵn</td>\n",
       "      <td>2990000.0</td>\n",
       "      <td>2650000.0</td>\n",
       "      <td>12</td>\n",
       "      <td>xiaomi</td>\n",
       "      <td>cellphones</td>\n",
       "    </tr>\n",
       "    <tr>\n",
       "      <th>92</th>\n",
       "      <td>92</td>\n",
       "      <td>Xiaomi Mi 11 5G</td>\n",
       "      <td>256</td>\n",
       "      <td>8</td>\n",
       "      <td>6.8</td>\n",
       "      <td>Sắp về hàng</td>\n",
       "      <td>21990000.0</td>\n",
       "      <td>15200000.0</td>\n",
       "      <td>12</td>\n",
       "      <td>xiaomi</td>\n",
       "      <td>cellphones</td>\n",
       "    </tr>\n",
       "    <tr>\n",
       "      <th>93</th>\n",
       "      <td>93</td>\n",
       "      <td>Xiaomi Mi 11 5G 128GB</td>\n",
       "      <td>128</td>\n",
       "      <td>8</td>\n",
       "      <td>6.8</td>\n",
       "      <td>Hàng có sẵn</td>\n",
       "      <td>20990000.0</td>\n",
       "      <td>14200000.0</td>\n",
       "      <td>5</td>\n",
       "      <td>xiaomi</td>\n",
       "      <td>cellphones</td>\n",
       "    </tr>\n",
       "    <tr>\n",
       "      <th>94</th>\n",
       "      <td>94</td>\n",
       "      <td>Xiaomi Redmi 9 4G</td>\n",
       "      <td>64</td>\n",
       "      <td>4</td>\n",
       "      <td>6.5</td>\n",
       "      <td>Sắp về hàng</td>\n",
       "      <td>3990000.0</td>\n",
       "      <td>2950000.0</td>\n",
       "      <td>10</td>\n",
       "      <td>xiaomi</td>\n",
       "      <td>cellphones</td>\n",
       "    </tr>\n",
       "  </tbody>\n",
       "</table>\n",
       "<p>95 rows × 11 columns</p>\n",
       "</div>"
      ],
      "text/plain": [
       "    Unnamed: 0                                         name  memory  \\\n",
       "0            0    iPhone 13 Pro Max 128GB | Chính hãng VN/A     128   \n",
       "1            1            iPhone 13 128GB | Chính hãng VN/A     128   \n",
       "2            2        iPhone 13 Pro 128GB | Chính hãng VN/A     128   \n",
       "3            3    iPhone 13 Pro Max 256GB I Chính hãng VN/A     256   \n",
       "4            4  iPhone 13 128GB - Xanh lá | Chính hãng VN/A     128   \n",
       "..         ...                                          ...     ...   \n",
       "90          90                      Xiaomi Redmi Note 10 5G     128   \n",
       "91          91                   Xiaomi Redmi 9C 3GB - 64GB      64   \n",
       "92          92                              Xiaomi Mi 11 5G     256   \n",
       "93          93                        Xiaomi Mi 11 5G 128GB     128   \n",
       "94          94                            Xiaomi Redmi 9 4G      64   \n",
       "\n",
       "    hard_drive  size       status       price  price_selloff  ratings   brand  \\\n",
       "0            6   6.7  Hàng có sẵn  34990000.0     29690000.0       26  iphone   \n",
       "1            4   6.1  Hàng có sẵn  24990000.0     21700000.0       13  iphone   \n",
       "2            6   6.1  Hàng có sẵn  31990000.0     27190000.0        3  iphone   \n",
       "3            6   6.7  Hàng có sẵn  37990000.0     32190000.0       11  iphone   \n",
       "4            0   6.1  Hàng có sẵn  24990000.0     21800000.0        0  iphone   \n",
       "..         ...   ...          ...         ...            ...      ...     ...   \n",
       "90           4   6.5  Sắp về hàng   5290000.0      4950000.0       18  xiaomi   \n",
       "91           3   6.5  Hàng có sẵn   2990000.0      2650000.0       12  xiaomi   \n",
       "92           8   6.8  Sắp về hàng  21990000.0     15200000.0       12  xiaomi   \n",
       "93           8   6.8  Hàng có sẵn  20990000.0     14200000.0        5  xiaomi   \n",
       "94           4   6.5  Sắp về hàng   3990000.0      2950000.0       10  xiaomi   \n",
       "\n",
       "         store  \n",
       "0   cellphones  \n",
       "1   cellphones  \n",
       "2   cellphones  \n",
       "3   cellphones  \n",
       "4   cellphones  \n",
       "..         ...  \n",
       "90  cellphones  \n",
       "91  cellphones  \n",
       "92  cellphones  \n",
       "93  cellphones  \n",
       "94  cellphones  \n",
       "\n",
       "[95 rows x 11 columns]"
      ]
     },
     "execution_count": 7,
     "metadata": {},
     "output_type": "execute_result"
    }
   ],
   "source": [
    "data_cellphones = pd.read_csv('cellphones_final.csv')\n",
    "data_cellphones"
   ]
  },
  {
   "cell_type": "code",
   "execution_count": 8,
   "id": "unexpected-hampton",
   "metadata": {},
   "outputs": [
    {
     "data": {
      "text/html": [
       "<div>\n",
       "<style scoped>\n",
       "    .dataframe tbody tr th:only-of-type {\n",
       "        vertical-align: middle;\n",
       "    }\n",
       "\n",
       "    .dataframe tbody tr th {\n",
       "        vertical-align: top;\n",
       "    }\n",
       "\n",
       "    .dataframe thead th {\n",
       "        text-align: right;\n",
       "    }\n",
       "</style>\n",
       "<table border=\"1\" class=\"dataframe\">\n",
       "  <thead>\n",
       "    <tr style=\"text-align: right;\">\n",
       "      <th></th>\n",
       "      <th>Unnamed: 0</th>\n",
       "      <th>name</th>\n",
       "      <th>price_selloff</th>\n",
       "      <th>memory</th>\n",
       "      <th>hard_drive</th>\n",
       "      <th>price</th>\n",
       "      <th>ratings</th>\n",
       "      <th>status</th>\n",
       "      <th>brand</th>\n",
       "      <th>store</th>\n",
       "    </tr>\n",
       "  </thead>\n",
       "  <tbody>\n",
       "    <tr>\n",
       "      <th>0</th>\n",
       "      <td>0</td>\n",
       "      <td>Samsung Galaxy Z Fold3 5G F926 512GB Ram 12GB</td>\n",
       "      <td>35199000</td>\n",
       "      <td>512GB</td>\n",
       "      <td>12GB</td>\n",
       "      <td>44990000</td>\n",
       "      <td>2</td>\n",
       "      <td>Kích hoạt điện tử, New 100%</td>\n",
       "      <td>Samsung</td>\n",
       "      <td>Ha Nam Mobile</td>\n",
       "    </tr>\n",
       "    <tr>\n",
       "      <th>1</th>\n",
       "      <td>1</td>\n",
       "      <td>Samsung Galaxy Z Fold3 5G F926 512GB Ram 12GB ...</td>\n",
       "      <td>34799000</td>\n",
       "      <td>512GB</td>\n",
       "      <td>12GB</td>\n",
       "      <td>44990000</td>\n",
       "      <td>1</td>\n",
       "      <td>Kích hoạt điện tử, New 100%</td>\n",
       "      <td>Samsung</td>\n",
       "      <td>Ha Nam Mobile</td>\n",
       "    </tr>\n",
       "    <tr>\n",
       "      <th>2</th>\n",
       "      <td>2</td>\n",
       "      <td>Samsung Galaxy S22 Ultra 5G S908 512GB Ram 12GB</td>\n",
       "      <td>29290000</td>\n",
       "      <td>512GB</td>\n",
       "      <td>12GB</td>\n",
       "      <td>36990000</td>\n",
       "      <td>3</td>\n",
       "      <td>Kích hoạt điện tử, New 100%</td>\n",
       "      <td>Samsung</td>\n",
       "      <td>Ha Nam Mobile</td>\n",
       "    </tr>\n",
       "    <tr>\n",
       "      <th>3</th>\n",
       "      <td>3</td>\n",
       "      <td>Apple iPhone 13 Pro Max 1 sim 1T</td>\n",
       "      <td>33999000</td>\n",
       "      <td>1T</td>\n",
       "      <td>0</td>\n",
       "      <td>49990000</td>\n",
       "      <td>1</td>\n",
       "      <td>Kích hoạt điện tử, New 100%</td>\n",
       "      <td>iphone</td>\n",
       "      <td>Ha Nam Mobile</td>\n",
       "    </tr>\n",
       "    <tr>\n",
       "      <th>4</th>\n",
       "      <td>4</td>\n",
       "      <td>Apple iPhone 13 Pro 1 sim 1T</td>\n",
       "      <td>33499000</td>\n",
       "      <td>1T</td>\n",
       "      <td>0</td>\n",
       "      <td>0</td>\n",
       "      <td>1</td>\n",
       "      <td>Kích hoạt điện tử, New 100%</td>\n",
       "      <td>iphone</td>\n",
       "      <td>Ha Nam Mobile</td>\n",
       "    </tr>\n",
       "    <tr>\n",
       "      <th>...</th>\n",
       "      <td>...</td>\n",
       "      <td>...</td>\n",
       "      <td>...</td>\n",
       "      <td>...</td>\n",
       "      <td>...</td>\n",
       "      <td>...</td>\n",
       "      <td>...</td>\n",
       "      <td>...</td>\n",
       "      <td>...</td>\n",
       "      <td>...</td>\n",
       "    </tr>\n",
       "    <tr>\n",
       "      <th>142</th>\n",
       "      <td>142</td>\n",
       "      <td>Nokia 215 4G 2020</td>\n",
       "      <td>839000</td>\n",
       "      <td>0</td>\n",
       "      <td>0</td>\n",
       "      <td>0</td>\n",
       "      <td>0</td>\n",
       "      <td>Tạm hết hàng</td>\n",
       "      <td>Nokia</td>\n",
       "      <td>Ha Nam Mobile</td>\n",
       "    </tr>\n",
       "    <tr>\n",
       "      <th>143</th>\n",
       "      <td>143</td>\n",
       "      <td>Nokia 210</td>\n",
       "      <td>779000</td>\n",
       "      <td>0</td>\n",
       "      <td>0</td>\n",
       "      <td>789000</td>\n",
       "      <td>0</td>\n",
       "      <td>Tạm hết hàng</td>\n",
       "      <td>Nokia</td>\n",
       "      <td>Ha Nam Mobile</td>\n",
       "    </tr>\n",
       "    <tr>\n",
       "      <th>144</th>\n",
       "      <td>144</td>\n",
       "      <td>Symphony S50</td>\n",
       "      <td>360000</td>\n",
       "      <td>0</td>\n",
       "      <td>0</td>\n",
       "      <td>0</td>\n",
       "      <td>0</td>\n",
       "      <td>Tạm hết hàng</td>\n",
       "      <td>Symphony</td>\n",
       "      <td>Ha Nam Mobile</td>\n",
       "    </tr>\n",
       "    <tr>\n",
       "      <th>145</th>\n",
       "      <td>145</td>\n",
       "      <td>Coolpad F210</td>\n",
       "      <td>300000</td>\n",
       "      <td>0</td>\n",
       "      <td>0</td>\n",
       "      <td>0</td>\n",
       "      <td>0</td>\n",
       "      <td>Tạm hết hàng</td>\n",
       "      <td>Coolpad</td>\n",
       "      <td>Ha Nam Mobile</td>\n",
       "    </tr>\n",
       "    <tr>\n",
       "      <th>146</th>\n",
       "      <td>146</td>\n",
       "      <td>Coolpad F110</td>\n",
       "      <td>190000</td>\n",
       "      <td>0</td>\n",
       "      <td>0</td>\n",
       "      <td>0</td>\n",
       "      <td>0</td>\n",
       "      <td>Tạm hết hàng</td>\n",
       "      <td>Coolpad</td>\n",
       "      <td>Ha Nam Mobile</td>\n",
       "    </tr>\n",
       "  </tbody>\n",
       "</table>\n",
       "<p>147 rows × 10 columns</p>\n",
       "</div>"
      ],
      "text/plain": [
       "     Unnamed: 0                                               name  \\\n",
       "0             0      Samsung Galaxy Z Fold3 5G F926 512GB Ram 12GB   \n",
       "1             1  Samsung Galaxy Z Fold3 5G F926 512GB Ram 12GB ...   \n",
       "2             2    Samsung Galaxy S22 Ultra 5G S908 512GB Ram 12GB   \n",
       "3             3                   Apple iPhone 13 Pro Max 1 sim 1T   \n",
       "4             4                       Apple iPhone 13 Pro 1 sim 1T   \n",
       "..          ...                                                ...   \n",
       "142         142                                  Nokia 215 4G 2020   \n",
       "143         143                                          Nokia 210   \n",
       "144         144                                       Symphony S50   \n",
       "145         145                                       Coolpad F210   \n",
       "146         146                                       Coolpad F110   \n",
       "\n",
       "     price_selloff memory hard_drive     price  ratings  \\\n",
       "0         35199000  512GB       12GB  44990000        2   \n",
       "1         34799000  512GB       12GB  44990000        1   \n",
       "2         29290000  512GB       12GB  36990000        3   \n",
       "3         33999000     1T          0  49990000        1   \n",
       "4         33499000     1T          0         0        1   \n",
       "..             ...    ...        ...       ...      ...   \n",
       "142         839000      0          0         0        0   \n",
       "143         779000      0          0    789000        0   \n",
       "144         360000      0          0         0        0   \n",
       "145         300000      0          0         0        0   \n",
       "146         190000      0          0         0        0   \n",
       "\n",
       "                          status     brand          store  \n",
       "0    Kích hoạt điện tử, New 100%   Samsung  Ha Nam Mobile  \n",
       "1    Kích hoạt điện tử, New 100%   Samsung  Ha Nam Mobile  \n",
       "2    Kích hoạt điện tử, New 100%   Samsung  Ha Nam Mobile  \n",
       "3    Kích hoạt điện tử, New 100%    iphone  Ha Nam Mobile  \n",
       "4    Kích hoạt điện tử, New 100%    iphone  Ha Nam Mobile  \n",
       "..                           ...       ...            ...  \n",
       "142                 Tạm hết hàng     Nokia  Ha Nam Mobile  \n",
       "143                 Tạm hết hàng     Nokia  Ha Nam Mobile  \n",
       "144                 Tạm hết hàng  Symphony  Ha Nam Mobile  \n",
       "145                 Tạm hết hàng   Coolpad  Ha Nam Mobile  \n",
       "146                 Tạm hết hàng   Coolpad  Ha Nam Mobile  \n",
       "\n",
       "[147 rows x 10 columns]"
      ]
     },
     "execution_count": 8,
     "metadata": {},
     "output_type": "execute_result"
    }
   ],
   "source": [
    "data_hanam = pd.read_csv('hanammobile_final.csv')\n",
    "data_hanam"
   ]
  },
  {
   "cell_type": "code",
   "execution_count": 9,
   "id": "editorial-joint",
   "metadata": {},
   "outputs": [
    {
     "data": {
      "text/html": [
       "<div>\n",
       "<style scoped>\n",
       "    .dataframe tbody tr th:only-of-type {\n",
       "        vertical-align: middle;\n",
       "    }\n",
       "\n",
       "    .dataframe tbody tr th {\n",
       "        vertical-align: top;\n",
       "    }\n",
       "\n",
       "    .dataframe thead th {\n",
       "        text-align: right;\n",
       "    }\n",
       "</style>\n",
       "<table border=\"1\" class=\"dataframe\">\n",
       "  <thead>\n",
       "    <tr style=\"text-align: right;\">\n",
       "      <th></th>\n",
       "      <th>Unnamed: 0</th>\n",
       "      <th>name</th>\n",
       "      <th>memory</th>\n",
       "      <th>price_selloff</th>\n",
       "      <th>price</th>\n",
       "      <th>ratings</th>\n",
       "      <th>brand</th>\n",
       "      <th>store</th>\n",
       "    </tr>\n",
       "  </thead>\n",
       "  <tbody>\n",
       "    <tr>\n",
       "      <th>0</th>\n",
       "      <td>0</td>\n",
       "      <td>Samsung Galaxy S22 Ultra 5G</td>\n",
       "      <td>8GB/128GB</td>\n",
       "      <td>30990000</td>\n",
       "      <td>0</td>\n",
       "      <td>31.0</td>\n",
       "      <td>Samsung</td>\n",
       "      <td>The Gioi Di Dong</td>\n",
       "    </tr>\n",
       "    <tr>\n",
       "      <th>1</th>\n",
       "      <td>1</td>\n",
       "      <td>iPhone 11</td>\n",
       "      <td>64GB</td>\n",
       "      <td>12490000</td>\n",
       "      <td>14990000</td>\n",
       "      <td>832.0</td>\n",
       "      <td>iPhone</td>\n",
       "      <td>The Gioi Di Dong</td>\n",
       "    </tr>\n",
       "    <tr>\n",
       "      <th>2</th>\n",
       "      <td>2</td>\n",
       "      <td>OPPO Reno7 series</td>\n",
       "      <td>Reno7 Z 5G</td>\n",
       "      <td>10490000</td>\n",
       "      <td>0</td>\n",
       "      <td>210.0</td>\n",
       "      <td>OPPO</td>\n",
       "      <td>The Gioi Di Dong</td>\n",
       "    </tr>\n",
       "    <tr>\n",
       "      <th>3</th>\n",
       "      <td>3</td>\n",
       "      <td>Realme C35</td>\n",
       "      <td>64GB</td>\n",
       "      <td>4290000</td>\n",
       "      <td>0</td>\n",
       "      <td>128.0</td>\n",
       "      <td>Realme</td>\n",
       "      <td>The Gioi Di Dong</td>\n",
       "    </tr>\n",
       "    <tr>\n",
       "      <th>4</th>\n",
       "      <td>4</td>\n",
       "      <td>Xiaomi 11T</td>\n",
       "      <td>128GB</td>\n",
       "      <td>10990000</td>\n",
       "      <td>0</td>\n",
       "      <td>334.0</td>\n",
       "      <td>Xiaomi</td>\n",
       "      <td>The Gioi Di Dong</td>\n",
       "    </tr>\n",
       "    <tr>\n",
       "      <th>...</th>\n",
       "      <td>...</td>\n",
       "      <td>...</td>\n",
       "      <td>...</td>\n",
       "      <td>...</td>\n",
       "      <td>...</td>\n",
       "      <td>...</td>\n",
       "      <td>...</td>\n",
       "      <td>...</td>\n",
       "    </tr>\n",
       "    <tr>\n",
       "      <th>116</th>\n",
       "      <td>116</td>\n",
       "      <td>Vivo Y21 series</td>\n",
       "      <td>Y21s 4GB</td>\n",
       "      <td>3990000</td>\n",
       "      <td>0</td>\n",
       "      <td>182.0</td>\n",
       "      <td>Vivo</td>\n",
       "      <td>The Gioi Di Dong</td>\n",
       "    </tr>\n",
       "    <tr>\n",
       "      <th>117</th>\n",
       "      <td>117</td>\n",
       "      <td>Realme C21-Y</td>\n",
       "      <td>4GB</td>\n",
       "      <td>3690000</td>\n",
       "      <td>0</td>\n",
       "      <td>16.0</td>\n",
       "      <td>Realme</td>\n",
       "      <td>The Gioi Di Dong</td>\n",
       "    </tr>\n",
       "    <tr>\n",
       "      <th>118</th>\n",
       "      <td>118</td>\n",
       "      <td>Samsung Galaxy A12 (2021)</td>\n",
       "      <td>6GB</td>\n",
       "      <td>3490000</td>\n",
       "      <td>4290000</td>\n",
       "      <td>272.0</td>\n",
       "      <td>Samsung</td>\n",
       "      <td>The Gioi Di Dong</td>\n",
       "    </tr>\n",
       "    <tr>\n",
       "      <th>119</th>\n",
       "      <td>119</td>\n",
       "      <td>Realme C11 series</td>\n",
       "      <td>C11 2021 4GB</td>\n",
       "      <td>2990000</td>\n",
       "      <td>0</td>\n",
       "      <td>77.0</td>\n",
       "      <td>Realme</td>\n",
       "      <td>The Gioi Di Dong</td>\n",
       "    </tr>\n",
       "    <tr>\n",
       "      <th>120</th>\n",
       "      <td>120</td>\n",
       "      <td>Xiaomi Redmi 9C</td>\n",
       "      <td>4GB/128GB</td>\n",
       "      <td>2990000</td>\n",
       "      <td>0</td>\n",
       "      <td>190.0</td>\n",
       "      <td>Xiaomi</td>\n",
       "      <td>The Gioi Di Dong</td>\n",
       "    </tr>\n",
       "  </tbody>\n",
       "</table>\n",
       "<p>121 rows × 8 columns</p>\n",
       "</div>"
      ],
      "text/plain": [
       "     Unnamed: 0                         name        memory  price_selloff  \\\n",
       "0             0  Samsung Galaxy S22 Ultra 5G     8GB/128GB       30990000   \n",
       "1             1                    iPhone 11          64GB       12490000   \n",
       "2             2            OPPO Reno7 series    Reno7 Z 5G       10490000   \n",
       "3             3                   Realme C35          64GB        4290000   \n",
       "4             4                   Xiaomi 11T         128GB       10990000   \n",
       "..          ...                          ...           ...            ...   \n",
       "116         116              Vivo Y21 series      Y21s 4GB        3990000   \n",
       "117         117                 Realme C21-Y           4GB        3690000   \n",
       "118         118    Samsung Galaxy A12 (2021)           6GB        3490000   \n",
       "119         119            Realme C11 series  C11 2021 4GB        2990000   \n",
       "120         120              Xiaomi Redmi 9C     4GB/128GB        2990000   \n",
       "\n",
       "        price  ratings    brand             store  \n",
       "0           0     31.0  Samsung  The Gioi Di Dong  \n",
       "1    14990000    832.0   iPhone  The Gioi Di Dong  \n",
       "2           0    210.0     OPPO  The Gioi Di Dong  \n",
       "3           0    128.0   Realme  The Gioi Di Dong  \n",
       "4           0    334.0   Xiaomi  The Gioi Di Dong  \n",
       "..        ...      ...      ...               ...  \n",
       "116         0    182.0     Vivo  The Gioi Di Dong  \n",
       "117         0     16.0   Realme  The Gioi Di Dong  \n",
       "118   4290000    272.0  Samsung  The Gioi Di Dong  \n",
       "119         0     77.0   Realme  The Gioi Di Dong  \n",
       "120         0    190.0   Xiaomi  The Gioi Di Dong  \n",
       "\n",
       "[121 rows x 8 columns]"
      ]
     },
     "execution_count": 9,
     "metadata": {},
     "output_type": "execute_result"
    }
   ],
   "source": [
    "data_tgdd = pd.read_csv('thegioididong_final.csv')\n",
    "data_tgdd"
   ]
  },
  {
   "cell_type": "code",
   "execution_count": 21,
   "id": "early-means",
   "metadata": {},
   "outputs": [
    {
     "data": {
      "application/vnd.plotly.v1+json": {
       "config": {
        "plotlyServerURL": "https://plot.ly"
       },
       "data": [
        {
         "marker": {
          "color": [
           "gold",
           "mediumturquoise",
           "darkorange",
           "lightgreen"
          ]
         },
         "type": "bar",
         "width": [
          0.8,
          0.8,
          0.8,
          0.8
         ],
         "x": [
          "cellphones",
          "fptshop",
          "hanam mobile",
          "the gioi di dong"
         ],
         "y": [
          95,
          115,
          147,
          121
         ]
        }
       ],
       "layout": {
        "autosize": false,
        "height": 480,
        "margin": {
         "b": 1,
         "l": 1,
         "pad": 1,
         "r": 1,
         "t": 1
        },
        "paper_bgcolor": "white",
        "plot_bgcolor": "#DDDDDD",
        "template": {
         "data": {
          "bar": [
           {
            "error_x": {
             "color": "#2a3f5f"
            },
            "error_y": {
             "color": "#2a3f5f"
            },
            "marker": {
             "line": {
              "color": "#E5ECF6",
              "width": 0.5
             }
            },
            "type": "bar"
           }
          ],
          "barpolar": [
           {
            "marker": {
             "line": {
              "color": "#E5ECF6",
              "width": 0.5
             }
            },
            "type": "barpolar"
           }
          ],
          "carpet": [
           {
            "aaxis": {
             "endlinecolor": "#2a3f5f",
             "gridcolor": "white",
             "linecolor": "white",
             "minorgridcolor": "white",
             "startlinecolor": "#2a3f5f"
            },
            "baxis": {
             "endlinecolor": "#2a3f5f",
             "gridcolor": "white",
             "linecolor": "white",
             "minorgridcolor": "white",
             "startlinecolor": "#2a3f5f"
            },
            "type": "carpet"
           }
          ],
          "choropleth": [
           {
            "colorbar": {
             "outlinewidth": 0,
             "ticks": ""
            },
            "type": "choropleth"
           }
          ],
          "contour": [
           {
            "colorbar": {
             "outlinewidth": 0,
             "ticks": ""
            },
            "colorscale": [
             [
              0,
              "#0d0887"
             ],
             [
              0.1111111111111111,
              "#46039f"
             ],
             [
              0.2222222222222222,
              "#7201a8"
             ],
             [
              0.3333333333333333,
              "#9c179e"
             ],
             [
              0.4444444444444444,
              "#bd3786"
             ],
             [
              0.5555555555555556,
              "#d8576b"
             ],
             [
              0.6666666666666666,
              "#ed7953"
             ],
             [
              0.7777777777777778,
              "#fb9f3a"
             ],
             [
              0.8888888888888888,
              "#fdca26"
             ],
             [
              1,
              "#f0f921"
             ]
            ],
            "type": "contour"
           }
          ],
          "contourcarpet": [
           {
            "colorbar": {
             "outlinewidth": 0,
             "ticks": ""
            },
            "type": "contourcarpet"
           }
          ],
          "heatmap": [
           {
            "colorbar": {
             "outlinewidth": 0,
             "ticks": ""
            },
            "colorscale": [
             [
              0,
              "#0d0887"
             ],
             [
              0.1111111111111111,
              "#46039f"
             ],
             [
              0.2222222222222222,
              "#7201a8"
             ],
             [
              0.3333333333333333,
              "#9c179e"
             ],
             [
              0.4444444444444444,
              "#bd3786"
             ],
             [
              0.5555555555555556,
              "#d8576b"
             ],
             [
              0.6666666666666666,
              "#ed7953"
             ],
             [
              0.7777777777777778,
              "#fb9f3a"
             ],
             [
              0.8888888888888888,
              "#fdca26"
             ],
             [
              1,
              "#f0f921"
             ]
            ],
            "type": "heatmap"
           }
          ],
          "heatmapgl": [
           {
            "colorbar": {
             "outlinewidth": 0,
             "ticks": ""
            },
            "colorscale": [
             [
              0,
              "#0d0887"
             ],
             [
              0.1111111111111111,
              "#46039f"
             ],
             [
              0.2222222222222222,
              "#7201a8"
             ],
             [
              0.3333333333333333,
              "#9c179e"
             ],
             [
              0.4444444444444444,
              "#bd3786"
             ],
             [
              0.5555555555555556,
              "#d8576b"
             ],
             [
              0.6666666666666666,
              "#ed7953"
             ],
             [
              0.7777777777777778,
              "#fb9f3a"
             ],
             [
              0.8888888888888888,
              "#fdca26"
             ],
             [
              1,
              "#f0f921"
             ]
            ],
            "type": "heatmapgl"
           }
          ],
          "histogram": [
           {
            "marker": {
             "colorbar": {
              "outlinewidth": 0,
              "ticks": ""
             }
            },
            "type": "histogram"
           }
          ],
          "histogram2d": [
           {
            "colorbar": {
             "outlinewidth": 0,
             "ticks": ""
            },
            "colorscale": [
             [
              0,
              "#0d0887"
             ],
             [
              0.1111111111111111,
              "#46039f"
             ],
             [
              0.2222222222222222,
              "#7201a8"
             ],
             [
              0.3333333333333333,
              "#9c179e"
             ],
             [
              0.4444444444444444,
              "#bd3786"
             ],
             [
              0.5555555555555556,
              "#d8576b"
             ],
             [
              0.6666666666666666,
              "#ed7953"
             ],
             [
              0.7777777777777778,
              "#fb9f3a"
             ],
             [
              0.8888888888888888,
              "#fdca26"
             ],
             [
              1,
              "#f0f921"
             ]
            ],
            "type": "histogram2d"
           }
          ],
          "histogram2dcontour": [
           {
            "colorbar": {
             "outlinewidth": 0,
             "ticks": ""
            },
            "colorscale": [
             [
              0,
              "#0d0887"
             ],
             [
              0.1111111111111111,
              "#46039f"
             ],
             [
              0.2222222222222222,
              "#7201a8"
             ],
             [
              0.3333333333333333,
              "#9c179e"
             ],
             [
              0.4444444444444444,
              "#bd3786"
             ],
             [
              0.5555555555555556,
              "#d8576b"
             ],
             [
              0.6666666666666666,
              "#ed7953"
             ],
             [
              0.7777777777777778,
              "#fb9f3a"
             ],
             [
              0.8888888888888888,
              "#fdca26"
             ],
             [
              1,
              "#f0f921"
             ]
            ],
            "type": "histogram2dcontour"
           }
          ],
          "mesh3d": [
           {
            "colorbar": {
             "outlinewidth": 0,
             "ticks": ""
            },
            "type": "mesh3d"
           }
          ],
          "parcoords": [
           {
            "line": {
             "colorbar": {
              "outlinewidth": 0,
              "ticks": ""
             }
            },
            "type": "parcoords"
           }
          ],
          "pie": [
           {
            "automargin": true,
            "type": "pie"
           }
          ],
          "scatter": [
           {
            "marker": {
             "colorbar": {
              "outlinewidth": 0,
              "ticks": ""
             }
            },
            "type": "scatter"
           }
          ],
          "scatter3d": [
           {
            "line": {
             "colorbar": {
              "outlinewidth": 0,
              "ticks": ""
             }
            },
            "marker": {
             "colorbar": {
              "outlinewidth": 0,
              "ticks": ""
             }
            },
            "type": "scatter3d"
           }
          ],
          "scattercarpet": [
           {
            "marker": {
             "colorbar": {
              "outlinewidth": 0,
              "ticks": ""
             }
            },
            "type": "scattercarpet"
           }
          ],
          "scattergeo": [
           {
            "marker": {
             "colorbar": {
              "outlinewidth": 0,
              "ticks": ""
             }
            },
            "type": "scattergeo"
           }
          ],
          "scattergl": [
           {
            "marker": {
             "colorbar": {
              "outlinewidth": 0,
              "ticks": ""
             }
            },
            "type": "scattergl"
           }
          ],
          "scattermapbox": [
           {
            "marker": {
             "colorbar": {
              "outlinewidth": 0,
              "ticks": ""
             }
            },
            "type": "scattermapbox"
           }
          ],
          "scatterpolar": [
           {
            "marker": {
             "colorbar": {
              "outlinewidth": 0,
              "ticks": ""
             }
            },
            "type": "scatterpolar"
           }
          ],
          "scatterpolargl": [
           {
            "marker": {
             "colorbar": {
              "outlinewidth": 0,
              "ticks": ""
             }
            },
            "type": "scatterpolargl"
           }
          ],
          "scatterternary": [
           {
            "marker": {
             "colorbar": {
              "outlinewidth": 0,
              "ticks": ""
             }
            },
            "type": "scatterternary"
           }
          ],
          "surface": [
           {
            "colorbar": {
             "outlinewidth": 0,
             "ticks": ""
            },
            "colorscale": [
             [
              0,
              "#0d0887"
             ],
             [
              0.1111111111111111,
              "#46039f"
             ],
             [
              0.2222222222222222,
              "#7201a8"
             ],
             [
              0.3333333333333333,
              "#9c179e"
             ],
             [
              0.4444444444444444,
              "#bd3786"
             ],
             [
              0.5555555555555556,
              "#d8576b"
             ],
             [
              0.6666666666666666,
              "#ed7953"
             ],
             [
              0.7777777777777778,
              "#fb9f3a"
             ],
             [
              0.8888888888888888,
              "#fdca26"
             ],
             [
              1,
              "#f0f921"
             ]
            ],
            "type": "surface"
           }
          ],
          "table": [
           {
            "cells": {
             "fill": {
              "color": "#EBF0F8"
             },
             "line": {
              "color": "white"
             }
            },
            "header": {
             "fill": {
              "color": "#C8D4E3"
             },
             "line": {
              "color": "white"
             }
            },
            "type": "table"
           }
          ]
         },
         "layout": {
          "annotationdefaults": {
           "arrowcolor": "#2a3f5f",
           "arrowhead": 0,
           "arrowwidth": 1
          },
          "autotypenumbers": "strict",
          "coloraxis": {
           "colorbar": {
            "outlinewidth": 0,
            "ticks": ""
           }
          },
          "colorscale": {
           "diverging": [
            [
             0,
             "#8e0152"
            ],
            [
             0.1,
             "#c51b7d"
            ],
            [
             0.2,
             "#de77ae"
            ],
            [
             0.3,
             "#f1b6da"
            ],
            [
             0.4,
             "#fde0ef"
            ],
            [
             0.5,
             "#f7f7f7"
            ],
            [
             0.6,
             "#e6f5d0"
            ],
            [
             0.7,
             "#b8e186"
            ],
            [
             0.8,
             "#7fbc41"
            ],
            [
             0.9,
             "#4d9221"
            ],
            [
             1,
             "#276419"
            ]
           ],
           "sequential": [
            [
             0,
             "#0d0887"
            ],
            [
             0.1111111111111111,
             "#46039f"
            ],
            [
             0.2222222222222222,
             "#7201a8"
            ],
            [
             0.3333333333333333,
             "#9c179e"
            ],
            [
             0.4444444444444444,
             "#bd3786"
            ],
            [
             0.5555555555555556,
             "#d8576b"
            ],
            [
             0.6666666666666666,
             "#ed7953"
            ],
            [
             0.7777777777777778,
             "#fb9f3a"
            ],
            [
             0.8888888888888888,
             "#fdca26"
            ],
            [
             1,
             "#f0f921"
            ]
           ],
           "sequentialminus": [
            [
             0,
             "#0d0887"
            ],
            [
             0.1111111111111111,
             "#46039f"
            ],
            [
             0.2222222222222222,
             "#7201a8"
            ],
            [
             0.3333333333333333,
             "#9c179e"
            ],
            [
             0.4444444444444444,
             "#bd3786"
            ],
            [
             0.5555555555555556,
             "#d8576b"
            ],
            [
             0.6666666666666666,
             "#ed7953"
            ],
            [
             0.7777777777777778,
             "#fb9f3a"
            ],
            [
             0.8888888888888888,
             "#fdca26"
            ],
            [
             1,
             "#f0f921"
            ]
           ]
          },
          "colorway": [
           "#636efa",
           "#EF553B",
           "#00cc96",
           "#ab63fa",
           "#FFA15A",
           "#19d3f3",
           "#FF6692",
           "#B6E880",
           "#FF97FF",
           "#FECB52"
          ],
          "font": {
           "color": "#2a3f5f"
          },
          "geo": {
           "bgcolor": "white",
           "lakecolor": "white",
           "landcolor": "#E5ECF6",
           "showlakes": true,
           "showland": true,
           "subunitcolor": "white"
          },
          "hoverlabel": {
           "align": "left"
          },
          "hovermode": "closest",
          "mapbox": {
           "style": "light"
          },
          "paper_bgcolor": "white",
          "plot_bgcolor": "#E5ECF6",
          "polar": {
           "angularaxis": {
            "gridcolor": "white",
            "linecolor": "white",
            "ticks": ""
           },
           "bgcolor": "#E5ECF6",
           "radialaxis": {
            "gridcolor": "white",
            "linecolor": "white",
            "ticks": ""
           }
          },
          "scene": {
           "xaxis": {
            "backgroundcolor": "#E5ECF6",
            "gridcolor": "white",
            "gridwidth": 2,
            "linecolor": "white",
            "showbackground": true,
            "ticks": "",
            "zerolinecolor": "white"
           },
           "yaxis": {
            "backgroundcolor": "#E5ECF6",
            "gridcolor": "white",
            "gridwidth": 2,
            "linecolor": "white",
            "showbackground": true,
            "ticks": "",
            "zerolinecolor": "white"
           },
           "zaxis": {
            "backgroundcolor": "#E5ECF6",
            "gridcolor": "white",
            "gridwidth": 2,
            "linecolor": "white",
            "showbackground": true,
            "ticks": "",
            "zerolinecolor": "white"
           }
          },
          "shapedefaults": {
           "line": {
            "color": "#2a3f5f"
           }
          },
          "ternary": {
           "aaxis": {
            "gridcolor": "white",
            "linecolor": "white",
            "ticks": ""
           },
           "baxis": {
            "gridcolor": "white",
            "linecolor": "white",
            "ticks": ""
           },
           "bgcolor": "#E5ECF6",
           "caxis": {
            "gridcolor": "white",
            "linecolor": "white",
            "ticks": ""
           }
          },
          "title": {
           "x": 0.05
          },
          "xaxis": {
           "automargin": true,
           "gridcolor": "white",
           "linecolor": "white",
           "ticks": "",
           "title": {
            "standoff": 15
           },
           "zerolinecolor": "white",
           "zerolinewidth": 2
          },
          "yaxis": {
           "automargin": true,
           "gridcolor": "white",
           "linecolor": "white",
           "ticks": "",
           "title": {
            "standoff": 15
           },
           "zerolinecolor": "white",
           "zerolinewidth": 2
          }
         }
        },
        "width": 700,
        "xaxis": {
         "showgrid": false,
         "showline": false
        },
        "yaxis": {
         "showgrid": false,
         "showline": false
        }
       }
      },
      "text/html": [
       "<div>                            <div id=\"0ab50640-8685-43f9-9ae0-44e646a97b58\" class=\"plotly-graph-div\" style=\"height:480px; width:700px;\"></div>            <script type=\"text/javascript\">                require([\"plotly\"], function(Plotly) {                    window.PLOTLYENV=window.PLOTLYENV || {};                                    if (document.getElementById(\"0ab50640-8685-43f9-9ae0-44e646a97b58\")) {                    Plotly.newPlot(                        \"0ab50640-8685-43f9-9ae0-44e646a97b58\",                        [{\"marker\": {\"color\": [\"gold\", \"mediumturquoise\", \"darkorange\", \"lightgreen\"]}, \"type\": \"bar\", \"width\": [0.8, 0.8, 0.8, 0.8], \"x\": [\"cellphones\", \"fptshop\", \"hanam mobile\", \"the gioi di dong\"], \"y\": [95, 115, 147, 121]}],                        {\"autosize\": false, \"height\": 480, \"margin\": {\"b\": 1, \"l\": 1, \"pad\": 1, \"r\": 1, \"t\": 1}, \"paper_bgcolor\": \"white\", \"plot_bgcolor\": \"#DDDDDD\", \"template\": {\"data\": {\"bar\": [{\"error_x\": {\"color\": \"#2a3f5f\"}, \"error_y\": {\"color\": \"#2a3f5f\"}, \"marker\": {\"line\": {\"color\": \"#E5ECF6\", \"width\": 0.5}}, \"type\": \"bar\"}], \"barpolar\": [{\"marker\": {\"line\": {\"color\": \"#E5ECF6\", \"width\": 0.5}}, \"type\": \"barpolar\"}], \"carpet\": [{\"aaxis\": {\"endlinecolor\": \"#2a3f5f\", \"gridcolor\": \"white\", \"linecolor\": \"white\", \"minorgridcolor\": \"white\", \"startlinecolor\": \"#2a3f5f\"}, \"baxis\": {\"endlinecolor\": \"#2a3f5f\", \"gridcolor\": \"white\", \"linecolor\": \"white\", \"minorgridcolor\": \"white\", \"startlinecolor\": \"#2a3f5f\"}, \"type\": \"carpet\"}], \"choropleth\": [{\"colorbar\": {\"outlinewidth\": 0, \"ticks\": \"\"}, \"type\": \"choropleth\"}], \"contour\": [{\"colorbar\": {\"outlinewidth\": 0, \"ticks\": \"\"}, \"colorscale\": [[0.0, \"#0d0887\"], [0.1111111111111111, \"#46039f\"], [0.2222222222222222, \"#7201a8\"], [0.3333333333333333, \"#9c179e\"], [0.4444444444444444, \"#bd3786\"], [0.5555555555555556, \"#d8576b\"], [0.6666666666666666, \"#ed7953\"], [0.7777777777777778, \"#fb9f3a\"], [0.8888888888888888, \"#fdca26\"], [1.0, \"#f0f921\"]], \"type\": \"contour\"}], \"contourcarpet\": [{\"colorbar\": {\"outlinewidth\": 0, \"ticks\": \"\"}, \"type\": \"contourcarpet\"}], \"heatmap\": [{\"colorbar\": {\"outlinewidth\": 0, \"ticks\": \"\"}, \"colorscale\": [[0.0, \"#0d0887\"], [0.1111111111111111, \"#46039f\"], [0.2222222222222222, \"#7201a8\"], [0.3333333333333333, \"#9c179e\"], [0.4444444444444444, \"#bd3786\"], [0.5555555555555556, \"#d8576b\"], [0.6666666666666666, \"#ed7953\"], [0.7777777777777778, \"#fb9f3a\"], [0.8888888888888888, \"#fdca26\"], [1.0, \"#f0f921\"]], \"type\": \"heatmap\"}], \"heatmapgl\": [{\"colorbar\": {\"outlinewidth\": 0, \"ticks\": \"\"}, \"colorscale\": [[0.0, \"#0d0887\"], [0.1111111111111111, \"#46039f\"], [0.2222222222222222, \"#7201a8\"], [0.3333333333333333, \"#9c179e\"], [0.4444444444444444, \"#bd3786\"], [0.5555555555555556, \"#d8576b\"], [0.6666666666666666, \"#ed7953\"], [0.7777777777777778, \"#fb9f3a\"], [0.8888888888888888, \"#fdca26\"], [1.0, \"#f0f921\"]], \"type\": \"heatmapgl\"}], \"histogram\": [{\"marker\": {\"colorbar\": {\"outlinewidth\": 0, \"ticks\": \"\"}}, \"type\": \"histogram\"}], \"histogram2d\": [{\"colorbar\": {\"outlinewidth\": 0, \"ticks\": \"\"}, \"colorscale\": [[0.0, \"#0d0887\"], [0.1111111111111111, \"#46039f\"], [0.2222222222222222, \"#7201a8\"], [0.3333333333333333, \"#9c179e\"], [0.4444444444444444, \"#bd3786\"], [0.5555555555555556, \"#d8576b\"], [0.6666666666666666, \"#ed7953\"], [0.7777777777777778, \"#fb9f3a\"], [0.8888888888888888, \"#fdca26\"], [1.0, \"#f0f921\"]], \"type\": \"histogram2d\"}], \"histogram2dcontour\": [{\"colorbar\": {\"outlinewidth\": 0, \"ticks\": \"\"}, \"colorscale\": [[0.0, \"#0d0887\"], [0.1111111111111111, \"#46039f\"], [0.2222222222222222, \"#7201a8\"], [0.3333333333333333, \"#9c179e\"], [0.4444444444444444, \"#bd3786\"], [0.5555555555555556, \"#d8576b\"], [0.6666666666666666, \"#ed7953\"], [0.7777777777777778, \"#fb9f3a\"], [0.8888888888888888, \"#fdca26\"], [1.0, \"#f0f921\"]], \"type\": \"histogram2dcontour\"}], \"mesh3d\": [{\"colorbar\": {\"outlinewidth\": 0, \"ticks\": \"\"}, \"type\": \"mesh3d\"}], \"parcoords\": [{\"line\": {\"colorbar\": {\"outlinewidth\": 0, \"ticks\": \"\"}}, \"type\": \"parcoords\"}], \"pie\": [{\"automargin\": true, \"type\": \"pie\"}], \"scatter\": [{\"marker\": {\"colorbar\": {\"outlinewidth\": 0, \"ticks\": \"\"}}, \"type\": \"scatter\"}], \"scatter3d\": [{\"line\": {\"colorbar\": {\"outlinewidth\": 0, \"ticks\": \"\"}}, \"marker\": {\"colorbar\": {\"outlinewidth\": 0, \"ticks\": \"\"}}, \"type\": \"scatter3d\"}], \"scattercarpet\": [{\"marker\": {\"colorbar\": {\"outlinewidth\": 0, \"ticks\": \"\"}}, \"type\": \"scattercarpet\"}], \"scattergeo\": [{\"marker\": {\"colorbar\": {\"outlinewidth\": 0, \"ticks\": \"\"}}, \"type\": \"scattergeo\"}], \"scattergl\": [{\"marker\": {\"colorbar\": {\"outlinewidth\": 0, \"ticks\": \"\"}}, \"type\": \"scattergl\"}], \"scattermapbox\": [{\"marker\": {\"colorbar\": {\"outlinewidth\": 0, \"ticks\": \"\"}}, \"type\": \"scattermapbox\"}], \"scatterpolar\": [{\"marker\": {\"colorbar\": {\"outlinewidth\": 0, \"ticks\": \"\"}}, \"type\": \"scatterpolar\"}], \"scatterpolargl\": [{\"marker\": {\"colorbar\": {\"outlinewidth\": 0, \"ticks\": \"\"}}, \"type\": \"scatterpolargl\"}], \"scatterternary\": [{\"marker\": {\"colorbar\": {\"outlinewidth\": 0, \"ticks\": \"\"}}, \"type\": \"scatterternary\"}], \"surface\": [{\"colorbar\": {\"outlinewidth\": 0, \"ticks\": \"\"}, \"colorscale\": [[0.0, \"#0d0887\"], [0.1111111111111111, \"#46039f\"], [0.2222222222222222, \"#7201a8\"], [0.3333333333333333, \"#9c179e\"], [0.4444444444444444, \"#bd3786\"], [0.5555555555555556, \"#d8576b\"], [0.6666666666666666, \"#ed7953\"], [0.7777777777777778, \"#fb9f3a\"], [0.8888888888888888, \"#fdca26\"], [1.0, \"#f0f921\"]], \"type\": \"surface\"}], \"table\": [{\"cells\": {\"fill\": {\"color\": \"#EBF0F8\"}, \"line\": {\"color\": \"white\"}}, \"header\": {\"fill\": {\"color\": \"#C8D4E3\"}, \"line\": {\"color\": \"white\"}}, \"type\": \"table\"}]}, \"layout\": {\"annotationdefaults\": {\"arrowcolor\": \"#2a3f5f\", \"arrowhead\": 0, \"arrowwidth\": 1}, \"autotypenumbers\": \"strict\", \"coloraxis\": {\"colorbar\": {\"outlinewidth\": 0, \"ticks\": \"\"}}, \"colorscale\": {\"diverging\": [[0, \"#8e0152\"], [0.1, \"#c51b7d\"], [0.2, \"#de77ae\"], [0.3, \"#f1b6da\"], [0.4, \"#fde0ef\"], [0.5, \"#f7f7f7\"], [0.6, \"#e6f5d0\"], [0.7, \"#b8e186\"], [0.8, \"#7fbc41\"], [0.9, \"#4d9221\"], [1, \"#276419\"]], \"sequential\": [[0.0, \"#0d0887\"], [0.1111111111111111, \"#46039f\"], [0.2222222222222222, \"#7201a8\"], [0.3333333333333333, \"#9c179e\"], [0.4444444444444444, \"#bd3786\"], [0.5555555555555556, \"#d8576b\"], [0.6666666666666666, \"#ed7953\"], [0.7777777777777778, \"#fb9f3a\"], [0.8888888888888888, \"#fdca26\"], [1.0, \"#f0f921\"]], \"sequentialminus\": [[0.0, \"#0d0887\"], [0.1111111111111111, \"#46039f\"], [0.2222222222222222, \"#7201a8\"], [0.3333333333333333, \"#9c179e\"], [0.4444444444444444, \"#bd3786\"], [0.5555555555555556, \"#d8576b\"], [0.6666666666666666, \"#ed7953\"], [0.7777777777777778, \"#fb9f3a\"], [0.8888888888888888, \"#fdca26\"], [1.0, \"#f0f921\"]]}, \"colorway\": [\"#636efa\", \"#EF553B\", \"#00cc96\", \"#ab63fa\", \"#FFA15A\", \"#19d3f3\", \"#FF6692\", \"#B6E880\", \"#FF97FF\", \"#FECB52\"], \"font\": {\"color\": \"#2a3f5f\"}, \"geo\": {\"bgcolor\": \"white\", \"lakecolor\": \"white\", \"landcolor\": \"#E5ECF6\", \"showlakes\": true, \"showland\": true, \"subunitcolor\": \"white\"}, \"hoverlabel\": {\"align\": \"left\"}, \"hovermode\": \"closest\", \"mapbox\": {\"style\": \"light\"}, \"paper_bgcolor\": \"white\", \"plot_bgcolor\": \"#E5ECF6\", \"polar\": {\"angularaxis\": {\"gridcolor\": \"white\", \"linecolor\": \"white\", \"ticks\": \"\"}, \"bgcolor\": \"#E5ECF6\", \"radialaxis\": {\"gridcolor\": \"white\", \"linecolor\": \"white\", \"ticks\": \"\"}}, \"scene\": {\"xaxis\": {\"backgroundcolor\": \"#E5ECF6\", \"gridcolor\": \"white\", \"gridwidth\": 2, \"linecolor\": \"white\", \"showbackground\": true, \"ticks\": \"\", \"zerolinecolor\": \"white\"}, \"yaxis\": {\"backgroundcolor\": \"#E5ECF6\", \"gridcolor\": \"white\", \"gridwidth\": 2, \"linecolor\": \"white\", \"showbackground\": true, \"ticks\": \"\", \"zerolinecolor\": \"white\"}, \"zaxis\": {\"backgroundcolor\": \"#E5ECF6\", \"gridcolor\": \"white\", \"gridwidth\": 2, \"linecolor\": \"white\", \"showbackground\": true, \"ticks\": \"\", \"zerolinecolor\": \"white\"}}, \"shapedefaults\": {\"line\": {\"color\": \"#2a3f5f\"}}, \"ternary\": {\"aaxis\": {\"gridcolor\": \"white\", \"linecolor\": \"white\", \"ticks\": \"\"}, \"baxis\": {\"gridcolor\": \"white\", \"linecolor\": \"white\", \"ticks\": \"\"}, \"bgcolor\": \"#E5ECF6\", \"caxis\": {\"gridcolor\": \"white\", \"linecolor\": \"white\", \"ticks\": \"\"}}, \"title\": {\"x\": 0.05}, \"xaxis\": {\"automargin\": true, \"gridcolor\": \"white\", \"linecolor\": \"white\", \"ticks\": \"\", \"title\": {\"standoff\": 15}, \"zerolinecolor\": \"white\", \"zerolinewidth\": 2}, \"yaxis\": {\"automargin\": true, \"gridcolor\": \"white\", \"linecolor\": \"white\", \"ticks\": \"\", \"title\": {\"standoff\": 15}, \"zerolinecolor\": \"white\", \"zerolinewidth\": 2}}}, \"width\": 700, \"xaxis\": {\"showgrid\": false, \"showline\": false}, \"yaxis\": {\"showgrid\": false, \"showline\": false}},                        {\"responsive\": true}                    ).then(function(){\n",
       "                            \n",
       "var gd = document.getElementById('0ab50640-8685-43f9-9ae0-44e646a97b58');\n",
       "var x = new MutationObserver(function (mutations, observer) {{\n",
       "        var display = window.getComputedStyle(gd).display;\n",
       "        if (!display || display === 'none') {{\n",
       "            console.log([gd, 'removed!']);\n",
       "            Plotly.purge(gd);\n",
       "            observer.disconnect();\n",
       "        }}\n",
       "}});\n",
       "\n",
       "// Listen for the removal of the full notebook cells\n",
       "var notebookContainer = gd.closest('#notebook-container');\n",
       "if (notebookContainer) {{\n",
       "    x.observe(notebookContainer, {childList: true});\n",
       "}}\n",
       "\n",
       "// Listen for the clearing of the current output cell\n",
       "var outputEl = gd.closest('.output');\n",
       "if (outputEl) {{\n",
       "    x.observe(outputEl, {childList: true});\n",
       "}}\n",
       "\n",
       "                        })                };                });            </script>        </div>"
      ]
     },
     "metadata": {},
     "output_type": "display_data"
    }
   ],
   "source": [
    "import plotly.graph_objects as go\n",
    "animals=['cellphones', 'fptshop', 'hanam mobile','the gioi di dong']\n",
    "colors = ['gold', 'mediumturquoise', 'darkorange', 'lightgreen']\n",
    "fig = go.Figure([go.Bar(x=animals, \n",
    "                        y=[len(data_cellphones),len(datafpt),len(data_hanam),len(data_tgdd)],\n",
    "                        marker_color=colors,\n",
    "                        width=[0.8, 0.8, 0.8,0.8],\n",
    "                       )])\n",
    "fig.update_layout(\n",
    "        autosize=False,\n",
    "        width=700,\n",
    "        height=480,\n",
    "        margin=dict(\n",
    "            l=1,\n",
    "            r=1,\n",
    "            b=1,\n",
    "            t=1,\n",
    "            pad=1\n",
    "        ),\n",
    "    paper_bgcolor=\"white\",\n",
    "        plot_bgcolor='#DDDDDD',\n",
    "\n",
    "        xaxis=dict(showline=False, showgrid=False),\n",
    "        yaxis=dict(showline=False, showgrid=False)\n",
    "    )\n",
    "\n",
    "fig.show()"
   ]
  },
  {
   "cell_type": "code",
   "execution_count": null,
   "id": "overhead-harris",
   "metadata": {},
   "outputs": [],
   "source": []
  },
  {
   "cell_type": "code",
   "execution_count": null,
   "id": "compact-alexander",
   "metadata": {},
   "outputs": [],
   "source": []
  },
  {
   "cell_type": "code",
   "execution_count": null,
   "id": "downtown-suspension",
   "metadata": {},
   "outputs": [],
   "source": []
  },
  {
   "cell_type": "code",
   "execution_count": null,
   "id": "younger-dinner",
   "metadata": {},
   "outputs": [],
   "source": []
  }
 ],
 "metadata": {
  "kernelspec": {
   "display_name": "Python 3",
   "language": "python",
   "name": "python3"
  },
  "language_info": {
   "codemirror_mode": {
    "name": "ipython",
    "version": 3
   },
   "file_extension": ".py",
   "mimetype": "text/x-python",
   "name": "python",
   "nbconvert_exporter": "python",
   "pygments_lexer": "ipython3",
   "version": "3.8.8"
  }
 },
 "nbformat": 4,
 "nbformat_minor": 5
}
