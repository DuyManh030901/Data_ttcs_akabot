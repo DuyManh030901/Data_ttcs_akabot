{
 "cells": [
  {
   "cell_type": "code",
   "execution_count": 1,
   "id": "inappropriate-colony",
   "metadata": {},
   "outputs": [],
   "source": [
    "import json\n",
    "import csv\n",
    "import pandas as pd\n",
    "import numpy as np"
   ]
  },
  {
   "cell_type": "code",
   "execution_count": 4,
   "id": "renewable-divorce",
   "metadata": {},
   "outputs": [
    {
     "data": {
      "text/plain": [
       "',iPhone 13 Pro Max 128GB,/dien-thoai/iphone-13-pro-max?dung-luong=128gb,30.490.000 ₫,Unnamed: 3,30.490.000 ₫.1,128GB,6 GB,6.7 inch,128 GB,33.990.000 ₫\\n0,OPPO Reno7 Z 5G 8GB - 128GB,/dien-thoai/oppo-reno7-z,,10.490.000 ₫,,,8 GB,Chính: 6.43 inch,128 GB,\\n1,Samsung Galaxy S22 Ultra 5G 128GB,/dien-thoai/samsung-galaxy-s22-ultra?dung-luong=128-gb,,30.990.000 ₫,,128 GB,8 GB,6.8 inch,128 GB,\\n2,iPhone 11 64GB,/dien-thoai/iphone-11-64gb,12.499.000 ₫,,12.499.000 ₫,64GB,4 GB,6.1 inch,64 GB,14.999.000 ₫\\n3,OPPO Reno7 8GB-128GB,/dien-thoai/oppo-reno7?ho-tro-mang=4g,8.490.000 ₫,,8.490.000 ₫,4G,8 GB,Chính: 6.4 inch,128 GB,8.990.000 ₫\\n4,Xiaomi 11 Lite 5G NE 8GB - 256GB,/dien-thoai/xiaomi-11-lite-5g-ne?dung-luong=8gb-256gb,9.490.000 ₫,,9.490.000 ₫,8GB - 256GB,8 GB,6.55 inch,256 GB,10.490.000 ₫\\n5,Nokia G21 6GB-128GB,/dien-thoai/nokia-g21,,,4.090.000 ₫,,6 GB,6.5 inch,128 GB,\\n6,Xiaomi Redmi Note 11S 6GB - 128GB,/dien-thoai/xiaomi-redmi-note-11s?dung-luong=6gb-128gb,5.890.000 ₫,,5.890.000 ₫,6GB - 128GB,6 GB,6.43 inch,128 GB,6.190.000 ₫\\n7,iPhone 12 64GB,/dien-thoai/iphone-12?dung-luong=64gb,,,17.499.000 ₫,,4 GB,6.1 inch,64 GB,\\n8,Samsung Galaxy Z Fold3 5G 256GB,/dien-thoai/samsung-galaxy-z-fold3?dung-luong=256-gb,35.990.000 ₫,,35.990.000 ₫,256 GB,12 GB,Chính: 7.6 inchPhụ: 6.2 inch,256 GB,41.990.000 ₫\\n9,Samsung Galaxy Z Flip3 5G 128GB,/dien-thoai/samsung-galaxy-z-flip-3?dung-luong=128-gb,21.990.000 ₫,,21.990.000 ₫,128 GB,8 GB,Chính: 6.7 inch,128 GB,24.990.000 ₫\\n10,Xiaomi 11T Pro 5G 12GB - 256GB,/dien-thoai/xiaomi-11t-pro,,,12.990.000 ₫,,12 GB,6.67 inch,256 GB,\\n11,Vivo Y21 4GB+1GB - 64GB,/dien-thoai/vivo-y21,,3.990.000 ₫,,,4 GB + 1 GB,6.51 inch,64 GB,\\n12,Vivo Y15s 3GB - 32GB,/dien-thoai/vivo-y15s,,,3.090.000 ₫,,3 GB,6.51 inch,32 GB,\\n13,Samsung Galaxy A22 5G,/dien-thoai/samsung-galaxy-a22?ho-tro-mang=5g,5.290.000 ₫,,5.290.000 ₫,5G,6 GB,6.6 inch,128 GB,6.290.000 ₫\\n14,TECNO POVA 2 4GB-64GB,/dien-thoai/tecno-pova2?dung-luong=64gb,3.490.000 ₫,,3.490.000 ₫,64GB,4 GB,6.9 inch,64 GB,4.290.000 ₫\\n15,TECNO POP 5 2GB-32GB,/dien-thoai/tecno-pop-5,,2.390.000 ₫,,,2 GB,6.5 inch,32 MB,\\n16,Realme C35 4GB-128GB,/dien-thoai/realme-c35?dung-luong=128gb,4.690.000 ₫,,4.690.000 ₫,128GB,4 GB,Chính: 6.58 inch,128 GB,4.990.000 ₫\\n17,Nokia C30 3GB-32GB,/dien-thoai/nokia-c30,,2.990.000 ₫,,,3 GB,6.82 inch,32 GB,\\n18,Vivo V23e 8GB - 128GB,/dien-thoai/vivo-v23e,,,7.490.000 ₫,,8 GB + 4 GB,6.44 inch,128 GB,\\n19,Samsung Galaxy A12 4GB-128GB,/dien-thoai/samsung-galaxy-a12,,,3.690.000 ₫,,4 GB,6.5 inch,128 GB,\\n20,Xiaomi Redmi 9A 2GB-32GB,/dien-thoai/xiaomi-redmi-9a-2gb-32gb,,,2.390.000 ₫,,2 GB,6.53 inch,32 GB,\\n21,Xiaomi Redmi 10C 4GB - 128GB,/dien-thoai/xiaomi-redmi-10c,,,3.690.000 ₫,,4 GB,6.71 inch,128 GB,\\n22,Xiaomi Redmi Note 11 Pro 8GB - 128GB,/dien-thoai/xiaomi-redmi-note-11-pro?ho-tro-mang=4g,,7.490.000 ₫,,4G,8 GB,6.67 inch,,\\n23,Xiaomi 11T 8GB - 128GB,/dien-thoai/xiaomi-11t,,,10.490.000 ₫,,8 GB,6.67 inch,128 GB,\\n24,OPPO A95 8GB-128GB,/dien-thoai/oppo-a95,,,6.490.000 ₫,,8 GB,6.43 inch,128 GB,\\n25,OPPO A76 6GB-128GB,/dien-thoai/oppo-a76,,5.990.000 ₫,,,6 GB,6.56 inch,128 GB,\\n26,OPPO A55 4GB-64GB,/dien-thoai/oppo-a55,,,4.490.000 ₫,,4 GB,6.5 inch,64 GB,\\n27,OPPO A16k 3GB-32GB,/dien-thoai/oppo-a16k,,3.290.000 ₫,,,3 GB,6.52 inch,32 GB,\\n28,iPhone 13 Pro 128GB,/dien-thoai/iphone-13-pro?dung-luong=128gb,27.490.000 ₫,,27.490.000 ₫,128GB,6 GB,6.1 inch,128 GB,30.990.000 ₫\\n29,Samsung Galaxy S22 Plus 5G 128GB,/dien-thoai/samsung-galaxy-s22-plus?dung-luong=128-gb,,25.990.000 ₫,,128 GB,8 GB,6.6 inch,128 GB,\\n30,Xiaomi 12 Pro 12GB - 256GB,/dien-thoai/xiaomi-12-pro,,,25.790.000 ₫,,12 GB,6.73 inch,256 GB,\\n31,Samsung Galaxy S22 5G 128GB,/dien-thoai/samsung-galaxy-s22?dung-luong=128-gb,,21.990.000 ₫,,128 GB,128 GB,8 GB,,\\n32,iPhone 13 128GB,/dien-thoai/iphone-13?dung-luong=128gb,20.990.000 ₫,,20.990.000 ₫,128GB,4 GB,6.1 inch,128 GB,24.990.000 ₫\\n33,Samsung Galaxy S21 Ultra 128GB,/dien-thoai/samsung-galaxy-s21-ultra?dung-luong=128gb,,,20.990.000 ₫,,12 GB,6.8 inch,128 GB,\\n34,Samsung Galaxy Z Flip3 5G Phiên Bản Giới Hạn,/dien-thoai/samsung-galaxy-z-flip3-phien-ban-gioi-han,,,19.990.000 ₫,,8 GB,Chính: 6.7 inch,128 GB,\\n35,Xiaomi 12 8GB - 256GB,/dien-thoai/xiaomi-12,,19.990.000 ₫,,,8 GB,6.28 inch,256 GB,\\n36,Samsung Galaxy S21+ 256GB,/dien-thoai/samsung-galaxy-s21-plus?dung-luong=256gb,,,18.990.000 ₫,,8 GB,6.7 inch,256 GB,\\n37,OPPO Find X3 Pro 5G,/dien-thoai/oppo-find-x3-pro,,,18.990.000 ₫,,12 GB,6.7 inch,256 GB,\\n38,iPhone 13 mini 128GB,/dien-thoai/iphone-13-mini?dung-luong=128gb,18.490.000 ₫,,18.490.000 ₫,128GB,4 GB,5.4 inch,128 GB,21.990.000 ₫\\n39,Asus ROG Phone 5S 5G 8GB-128GB,/dien-thoai/asus-rog-5s?dung-luong=128gb,15.990.000 ₫,,15.990.000 ₫,128GB,8 GB,6.8 inch,128 GB,16.990.000 ₫\\n40,Samsung Galaxy S21 FE 5G 8GB - 128GB,/dien-thoai/samsung-galaxy-s21-fe?dung-luong=128gb,14.990.000 ₫,,14.990.000 ₫,128GB,8 GB,6.4 inch,128 GB,16.990.000 ₫\\n41,Samsung Galaxy S21 FE 5G 6GB - 128GB,/dien-thoai/samsung-galaxy-s21-fe-5g-ram-6gb,,,13.990.000 ₫,,6 GB,6.4 inch,128 GB,\\n42,Samsung Galaxy S20 FE 256GB,/dien-thoai/samsung-galaxy-s20-fe-256gb,,,12.990.000 ₫,,8 GB,6.5 inch,256 GB,\\n43,Vivo V23 5G,/dien-thoai/vivo-v23,,,12.490.000 ₫,,8 GB + 4 GB,6.44 inch,128 GB,\\n44,Samsung Galaxy A73 5G,/dien-thoai/samsung-galaxy-a73,,11.990.000 ₫,,,8 GB,6.7 inch,128 GB,\\n45,iPhone SE 2022 64GB,/dien-thoai/iphone-se-2022?dung-luong=64gb,11.990.000 ₫,,11.990.000 ₫,64GB,3 GB,4.7 inch,64 GB,12.990.000 ₫\\n46,Samsung Galaxy A53 5G 256GB,/dien-thoai/samsung-galaxy-a53?dung-luong=256-gb,,10.990.000 ₫,,256 GB,8 GB,6.5 inch,256 GB,\\n47,Oppo Reno6 5G,/dien-thoai/oppo-reno6,,,10.990.000 ₫,,8 GB,6.43 inch,128 GB,\\n48,Samsung Galaxy M52 5G,/dien-thoai/samsung-galaxy-m52,,9.690.000 ₫,,,8 GB + 4 GB,6.7 inch,128 GB,\\n49,Samsung Galaxy A33 5G,/dien-thoai/samsung-galaxy-a33,,8.490.000 ₫,,,6 GB,Chính: 6.4 inch,128 GB,\\n50,Samsung Galaxy A52s 5G,/dien-thoai/samsung-galaxy-a52s-5g,,,7.990.000 ₫,,8 GB,6.5 inch,128 GB,\\n51,Samsung Galaxy A52,/dien-thoai/samsung-galaxy-a52,,,7.790.000 ₫,,8 GB,6.5 inch,128 GB,\\n52,Realme 9 Pro 5G 8G-128GB,/dien-thoai/realme-9-pro,,,7.690.000 ₫,,8 GB,6.6 inch,128 GB,\\n53,OPPO Reno6 Z 5G,/dien-thoai/oppo-reno6-z,,,7.490.000 ₫,,8 GB,6.43 inch,128 GB,\\n54,Realme 8 Pro 8GB - 128GB,/dien-thoai/realme-8-pro,,6.990.000 ₫,,,8 GB,6.4 inch,128 GB,\\n55,Samsung Galaxy A32,/dien-thoai/samsung-galaxy-a32,,6.490.000 ₫,,,6 GB,6.4 inch,128 GB,\\n56,Vivo Y33s 8GB - 128GB,/dien-thoai/vivo-y33s,,,6.390.000 ₫,,8 GB,6.58 inch,128 GB,\\n57,OPPO A94 8GB-128GB,/dien-thoai/oppo-a94,,5.990.000 ₫,,,8 GB,6.43 inch,128 GB,\\n58,Vivo Y53s 8GB+3GB - 128GB,/dien-thoai/vivo-y53s,,,5.790.000 ₫,,8 GB + 3 GB,6.58 inch,128 GB,\\n59,Samsung Galaxy A23,/dien-thoai/samsung-galaxy-a23,,,5.490.000 ₫,,4 GB,6.6 inch,128 GB,\\n60,Xiaomi Redmi Note 10S 8GB-128GB,/dien-thoai/xiaomi-redmi-note-10s,,,5.290.000 ₫,,8 GB,6.43 inch,128 GB,\\n61,Vivo Y21s 4GB+1GB - 128GB,/dien-thoai/vivo-y21s?ram=4gb,4.790.000 ₫,,4.790.000 ₫,4GB,4 GB + 1 GB,6.51 inch,128 GB,4.990.000 ₫\\n62,Samsung Galaxy A13,/dien-thoai/samsung-galaxy-a13,,4.690.000 ₫,,,4 GB,6.6 inch,128 GB,\\n63,Xiaomi Redmi Note 11 4GB - 64GB,/dien-thoai/xiaomi-redmi-note-11-4g?dung-luong=64gb,4.490.000 ₫,,4.490.000 ₫,64GB,4 GB,6.43 inch,64 GB,4.690.000 ₫\\n64,Xiaomi Redmi 10 4GB-128GB,/dien-thoai/xiaomi-redmi-10?dung-luong=128-gb,,4.290.000 ₫,,128 GB,4 GB,6.5 inch,128 GB,\\n65,Xiaomi Redmi 10 2022 4GB-128GB,/dien-thoai/xiaomi-redmi-10-2022,,4.290.000 ₫,,,4 GB,6.5 inch,128 GB,\\n66,Realme C25y 4GB-128GB,/dien-thoai/realme-c25y,,,3.990.000 ₫,,4 GB,6.5 inch,128 GB,\\n67,OPPO A16 3GB-32GB,/dien-thoai/oppo-a16,,,3.790.000 ₫,,3 GB,6.52 inch,32 GB,\\n68,Samsung Galaxy A03s,/dien-thoai/samsung-galaxy-a03s,,3.690.000 ₫,,,4 GB,6.5 inch,64 GB,\\n69,Xiaomi Redmi 9C 4GB-128GB,/dien-thoai/xiaomi-redmi-9c-4gb-128gb,3.290.000 ₫,,3.290.000 ₫,4GB-128GB,4 GB,6.53 inch,128 GB,3.490.000 ₫\\n70,Nokia G10 4GB-64GB,/dien-thoai/nokia-g10,,,3.190.000 ₫,,4 GB,6.52 inch,64 GB,\\n71,Samsung Galaxy A03,/dien-thoai/samsung-galaxy-a03,,2.990.000 ₫,,,3 GB,6.5 inch,32 GB,\\n72,TECNO SPARK 7T 4GB-64GB,/dien-thoai/tecno-spark-7t,,2.990.000 ₫,,,4 GB,6.52 inch,64 GB,\\n73,Nokia C21 Plus 3GB-32GB,/dien-thoai/nokia-c21-plus,,,2.790.000 ₫,,3 GB,6.52 inch,32 GB,\\n74,Realme C21y 3GB - 32GB,/dien-thoai/realme-c21y?dung-luong=32gb,2.690.000 ₫,,2.690.000 ₫,32GB,3 GB,6.5 inch,32 GB,3.190.000 ₫\\n75,Realme C11 2021 2GB - 32GB,/dien-thoai/realme-c11-2021?dung-luong=2gb-32gb,2.690.000 ₫,,2.690.000 ₫,2GB-32GB,2 GB,6.5 inch,32 GB,2.990.000 ₫\\n76,TECNO SPARK 7 2GB-32GB,/dien-thoai/tecno-spark-7,,2.390.000 ₫,,,2 GB,6.5 inch,32 GB,\\n77,Nokia C20 2GB - 32GB,/dien-thoai/nokia-c20,,2.190.000 ₫,,,2 GB,6.5 inch,32 GB,\\n78,Nokia 215 DS 4G,/dien-thoai/nokia-215-ds-4g,,900.000 ₫,,,64 MB,2.4 inch,,\\n79,Nokia 110 DS 4G,/dien-thoai/nokia-110-4g,,850.000 ₫,,,48 MB,1.8 inch,128 MB,\\n80,Nokia 105 DS 4G,/dien-thoai/nokia-105-4g,,750.000 ₫,,,48 MB,1.8 inch,128 MB,\\n81,Masstel Fami 60 4G,/dien-thoai/masstel-fami-60-4g,,749.000 ₫,,,,,,\\n82,Masstel Izi 55 4G,/dien-thoai/masstel-izi-55-4g,,699.000 ₫,,,,,,\\n83,Masstel Fami 12 4G,/dien-thoai/masstel-fami-12-4g,,649.000 ₫,,,,,,\\n84,Masstel Izi 20 4G,/dien-thoai/masstel-izi-20-4g,,549.000 ₫,,,,,,\\n85,Masstel Izi 10 4G,/dien-thoai/masstel-izi-10-4g,,499.000 ₫,,,,,,\\n86,Masstel Izi 12 4G,/dien-thoai/masstel-izi-12-4g,,499.000 ₫,,,48 MB,1.77 inch,128 MB,\\n87,Nokia 105 DS (2019),/dien-thoai/nokia-105-ds-2019,,490.000 ₫,,,,4 MB,,\\n88,Nokia 105 SS (2019),/dien-thoai/nokia-105-ss-2019,,480.000 ₫,,,,4 MB,,\\n89,Xiaomi Mi 9 Pro,/dien-thoai/xiaomi-mi-9-pro,,,,,,,,\\n90,Xiaomi Mi 9 Pro 5G,/dien-thoai/xiaomi-mi-9-pro-5g,,,,,,,,\\n91,Huawei Mate 30 5G,/dien-thoai/huawei-mate-30-5g,,,,,,,,\\n92,Huawei Mate 30 Pro 5G,/dien-thoai/huawei-mate-30-pro-5g,,,,,,,,\\n93,Huawei Mate 30 RS Porsche Design,/dien-thoai/huawei-mate-30-rs-porsche-design,,,,,,,,\\n94,Honor 8S,/dien-thoai/honor-8s,,,,,,,,\\n95,Honor Play 3e,/dien-thoai/honor-play-3e,,,,,,,,\\n96,Realme X2,/dien-thoai/realme-x2,,,,,,,,\\n97,Realme X2 Pro,/dien-thoai/realme-x2-pro,,,,,,,,\\n98,Huawei Y6s,/dien-thoai/huawei-y6s,,,,,,,,\\n'"
      ]
     },
     "execution_count": 4,
     "metadata": {},
     "output_type": "execute_result"
    }
   ],
   "source": [
    "datafpt1 = pd.read_excel('/Users/duymanh/Documents/Data_ttcs_akabot/data/datafpt1.xlsx', na_values = ':')\n",
    "datafpt1_csv=datafpt1.to_csv()\n",
    "datafpt1_csv.head()"
   ]
  },
  {
   "cell_type": "code",
   "execution_count": 7,
   "id": "instructional-kenya",
   "metadata": {},
   "outputs": [
    {
     "data": {
      "text/plain": [
       "',iPhone 13 Pro Max 128GB,/dien-thoai/iphone-13-pro-max?dung-luong=128gb,30.490.000 ₫,Unnamed: 3,30.490.000 ₫.1,128GB,6 GB,6.7 inch,128 GB,33.990.000 ₫\\n0,OPPO Reno7 Z 5G 8GB - 128GB,/dien-thoai/oppo-reno7-z,,10.490.000 ₫,,,8 GB,Chính: 6.43 inch,128 GB,\\n1,Samsung Galaxy S22 Ultra 5G 128GB,/dien-thoai/samsung-galaxy-s22-ultra?dung-luong=128-gb,,30.990.000 ₫,,128 GB,8 GB,6.8 inch,128 GB,\\n2,iPhone 11 64GB,/dien-thoai/iphone-11-64gb,12.499.000 ₫,,12.499.000 ₫,64GB,4 GB,6.1 inch,64 GB,14.999.000 ₫\\n3,OPPO Reno7 8GB-128GB,/dien-thoai/oppo-reno7?ho-tro-mang=4g,8.490.000 ₫,,8.490.000 ₫,4G,8 GB,Chính: 6.4 inch,128 GB,8.990.000 ₫\\n4,Xiaomi 11 Lite 5G NE 8GB - 256GB,/dien-thoai/xiaomi-11-lite-5g-ne?dung-luong=8gb-256gb,9.490.000 ₫,,9.490.000 ₫,8GB - 256GB,8 GB,6.55 inch,256 GB,10.490.000 ₫\\n5,Nokia G21 6GB-128GB,/dien-thoai/nokia-g21,,,4.090.000 ₫,,6 GB,6.5 inch,128 GB,\\n6,Xiaomi Redmi Note 11S 6GB - 128GB,/dien-thoai/xiaomi-redmi-note-11s?dung-luong=6gb-128gb,5.890.000 ₫,,5.890.000 ₫,6GB - 128GB,6 GB,6.43 inch,128 GB,6.190.000 ₫\\n7,iPhone 12 64GB,/dien-thoai/iphone-12?dung-luong=64gb,,,17.499.000 ₫,,4 GB,6.1 inch,64 GB,\\n8,Samsung Galaxy Z Fold3 5G 256GB,/dien-thoai/samsung-galaxy-z-fold3?dung-luong=256-gb,35.990.000 ₫,,35.990.000 ₫,256 GB,12 GB,Chính: 7.6 inchPhụ: 6.2 inch,256 GB,41.990.000 ₫\\n9,Samsung Galaxy Z Flip3 5G 128GB,/dien-thoai/samsung-galaxy-z-flip-3?dung-luong=128-gb,21.990.000 ₫,,21.990.000 ₫,128 GB,8 GB,Chính: 6.7 inch,128 GB,24.990.000 ₫\\n10,Xiaomi 11T Pro 5G 12GB - 256GB,/dien-thoai/xiaomi-11t-pro,,,12.990.000 ₫,,12 GB,6.67 inch,256 GB,\\n11,Vivo Y21 4GB+1GB - 64GB,/dien-thoai/vivo-y21,,3.990.000 ₫,,,4 GB + 1 GB,6.51 inch,64 GB,\\n12,Vivo Y15s 3GB - 32GB,/dien-thoai/vivo-y15s,,,3.090.000 ₫,,3 GB,6.51 inch,32 GB,\\n13,Samsung Galaxy A22 5G,/dien-thoai/samsung-galaxy-a22?ho-tro-mang=5g,5.290.000 ₫,,5.290.000 ₫,5G,6 GB,6.6 inch,128 GB,6.290.000 ₫\\n14,TECNO POVA 2 4GB-64GB,/dien-thoai/tecno-pova2?dung-luong=64gb,3.490.000 ₫,,3.490.000 ₫,64GB,4 GB,6.9 inch,64 GB,4.290.000 ₫\\n15,TECNO POP 5 2GB-32GB,/dien-thoai/tecno-pop-5,,2.390.000 ₫,,,2 GB,6.5 inch,32 MB,\\n16,Realme C35 4GB-128GB,/dien-thoai/realme-c35?dung-luong=128gb,4.690.000 ₫,,4.690.000 ₫,128GB,4 GB,Chính: 6.58 inch,128 GB,4.990.000 ₫\\n17,Nokia C30 3GB-32GB,/dien-thoai/nokia-c30,,2.990.000 ₫,,,3 GB,6.82 inch,32 GB,\\n18,Vivo V23e 8GB - 128GB,/dien-thoai/vivo-v23e,,,7.490.000 ₫,,8 GB + 4 GB,6.44 inch,128 GB,\\n19,Samsung Galaxy A12 4GB-128GB,/dien-thoai/samsung-galaxy-a12,,,3.690.000 ₫,,4 GB,6.5 inch,128 GB,\\n20,Xiaomi Redmi 9A 2GB-32GB,/dien-thoai/xiaomi-redmi-9a-2gb-32gb,,,2.390.000 ₫,,2 GB,6.53 inch,32 GB,\\n21,Xiaomi Redmi 10C 4GB - 128GB,/dien-thoai/xiaomi-redmi-10c,,,3.690.000 ₫,,4 GB,6.71 inch,128 GB,\\n22,Xiaomi Redmi Note 11 Pro 8GB - 128GB,/dien-thoai/xiaomi-redmi-note-11-pro?ho-tro-mang=4g,,7.490.000 ₫,,4G,8 GB,6.67 inch,,\\n23,Xiaomi 11T 8GB - 128GB,/dien-thoai/xiaomi-11t,,,10.490.000 ₫,,8 GB,6.67 inch,128 GB,\\n24,OPPO A95 8GB-128GB,/dien-thoai/oppo-a95,,,6.490.000 ₫,,8 GB,6.43 inch,128 GB,\\n25,OPPO A76 6GB-128GB,/dien-thoai/oppo-a76,,5.990.000 ₫,,,6 GB,6.56 inch,128 GB,\\n26,OPPO A55 4GB-64GB,/dien-thoai/oppo-a55,,,4.490.000 ₫,,4 GB,6.5 inch,64 GB,\\n27,OPPO A16k 3GB-32GB,/dien-thoai/oppo-a16k,,3.290.000 ₫,,,3 GB,6.52 inch,32 GB,\\n28,iPhone 13 Pro 128GB,/dien-thoai/iphone-13-pro?dung-luong=128gb,27.490.000 ₫,,27.490.000 ₫,128GB,6 GB,6.1 inch,128 GB,30.990.000 ₫\\n29,Samsung Galaxy S22 Plus 5G 128GB,/dien-thoai/samsung-galaxy-s22-plus?dung-luong=128-gb,,25.990.000 ₫,,128 GB,8 GB,6.6 inch,128 GB,\\n30,Xiaomi 12 Pro 12GB - 256GB,/dien-thoai/xiaomi-12-pro,,,25.790.000 ₫,,12 GB,6.73 inch,256 GB,\\n31,Samsung Galaxy S22 5G 128GB,/dien-thoai/samsung-galaxy-s22?dung-luong=128-gb,,21.990.000 ₫,,128 GB,128 GB,8 GB,,\\n32,iPhone 13 128GB,/dien-thoai/iphone-13?dung-luong=128gb,20.990.000 ₫,,20.990.000 ₫,128GB,4 GB,6.1 inch,128 GB,24.990.000 ₫\\n33,Samsung Galaxy S21 Ultra 128GB,/dien-thoai/samsung-galaxy-s21-ultra?dung-luong=128gb,,,20.990.000 ₫,,12 GB,6.8 inch,128 GB,\\n34,Samsung Galaxy Z Flip3 5G Phiên Bản Giới Hạn,/dien-thoai/samsung-galaxy-z-flip3-phien-ban-gioi-han,,,19.990.000 ₫,,8 GB,Chính: 6.7 inch,128 GB,\\n35,Xiaomi 12 8GB - 256GB,/dien-thoai/xiaomi-12,,19.990.000 ₫,,,8 GB,6.28 inch,256 GB,\\n36,Samsung Galaxy S21+ 256GB,/dien-thoai/samsung-galaxy-s21-plus?dung-luong=256gb,,,18.990.000 ₫,,8 GB,6.7 inch,256 GB,\\n37,OPPO Find X3 Pro 5G,/dien-thoai/oppo-find-x3-pro,,,18.990.000 ₫,,12 GB,6.7 inch,256 GB,\\n38,iPhone 13 mini 128GB,/dien-thoai/iphone-13-mini?dung-luong=128gb,18.490.000 ₫,,18.490.000 ₫,128GB,4 GB,5.4 inch,128 GB,21.990.000 ₫\\n39,Asus ROG Phone 5S 5G 8GB-128GB,/dien-thoai/asus-rog-5s?dung-luong=128gb,15.990.000 ₫,,15.990.000 ₫,128GB,8 GB,6.8 inch,128 GB,16.990.000 ₫\\n40,Samsung Galaxy S21 FE 5G 8GB - 128GB,/dien-thoai/samsung-galaxy-s21-fe?dung-luong=128gb,14.990.000 ₫,,14.990.000 ₫,128GB,8 GB,6.4 inch,128 GB,16.990.000 ₫\\n41,Samsung Galaxy S21 FE 5G 6GB - 128GB,/dien-thoai/samsung-galaxy-s21-fe-5g-ram-6gb,,,13.990.000 ₫,,6 GB,6.4 inch,128 GB,\\n42,Samsung Galaxy S20 FE 256GB,/dien-thoai/samsung-galaxy-s20-fe-256gb,,,12.990.000 ₫,,8 GB,6.5 inch,256 GB,\\n43,Vivo V23 5G,/dien-thoai/vivo-v23,,,12.490.000 ₫,,8 GB + 4 GB,6.44 inch,128 GB,\\n44,Samsung Galaxy A73 5G,/dien-thoai/samsung-galaxy-a73,,11.990.000 ₫,,,8 GB,6.7 inch,128 GB,\\n45,iPhone SE 2022 64GB,/dien-thoai/iphone-se-2022?dung-luong=64gb,11.990.000 ₫,,11.990.000 ₫,64GB,3 GB,4.7 inch,64 GB,12.990.000 ₫\\n46,Samsung Galaxy A53 5G 256GB,/dien-thoai/samsung-galaxy-a53?dung-luong=256-gb,,10.990.000 ₫,,256 GB,8 GB,6.5 inch,256 GB,\\n47,Oppo Reno6 5G,/dien-thoai/oppo-reno6,,,10.990.000 ₫,,8 GB,6.43 inch,128 GB,\\n48,Samsung Galaxy M52 5G,/dien-thoai/samsung-galaxy-m52,,9.690.000 ₫,,,8 GB + 4 GB,6.7 inch,128 GB,\\n49,Samsung Galaxy A33 5G,/dien-thoai/samsung-galaxy-a33,,8.490.000 ₫,,,6 GB,Chính: 6.4 inch,128 GB,\\n50,Samsung Galaxy A52s 5G,/dien-thoai/samsung-galaxy-a52s-5g,,,7.990.000 ₫,,8 GB,6.5 inch,128 GB,\\n51,Samsung Galaxy A52,/dien-thoai/samsung-galaxy-a52,,,7.790.000 ₫,,8 GB,6.5 inch,128 GB,\\n52,Realme 9 Pro 5G 8G-128GB,/dien-thoai/realme-9-pro,,,7.690.000 ₫,,8 GB,6.6 inch,128 GB,\\n53,OPPO Reno6 Z 5G,/dien-thoai/oppo-reno6-z,,,7.490.000 ₫,,8 GB,6.43 inch,128 GB,\\n54,Realme 8 Pro 8GB - 128GB,/dien-thoai/realme-8-pro,,6.990.000 ₫,,,8 GB,6.4 inch,128 GB,\\n55,Samsung Galaxy A32,/dien-thoai/samsung-galaxy-a32,,6.490.000 ₫,,,6 GB,6.4 inch,128 GB,\\n56,Vivo Y33s 8GB - 128GB,/dien-thoai/vivo-y33s,,,6.390.000 ₫,,8 GB,6.58 inch,128 GB,\\n57,OPPO A94 8GB-128GB,/dien-thoai/oppo-a94,,5.990.000 ₫,,,8 GB,6.43 inch,128 GB,\\n58,Vivo Y53s 8GB+3GB - 128GB,/dien-thoai/vivo-y53s,,,5.790.000 ₫,,8 GB + 3 GB,6.58 inch,128 GB,\\n59,Samsung Galaxy A23,/dien-thoai/samsung-galaxy-a23,,,5.490.000 ₫,,4 GB,6.6 inch,128 GB,\\n60,Xiaomi Redmi Note 10S 8GB-128GB,/dien-thoai/xiaomi-redmi-note-10s,,,5.290.000 ₫,,8 GB,6.43 inch,128 GB,\\n61,Vivo Y21s 4GB+1GB - 128GB,/dien-thoai/vivo-y21s?ram=4gb,4.790.000 ₫,,4.790.000 ₫,4GB,4 GB + 1 GB,6.51 inch,128 GB,4.990.000 ₫\\n62,Samsung Galaxy A13,/dien-thoai/samsung-galaxy-a13,,4.690.000 ₫,,,4 GB,6.6 inch,128 GB,\\n63,Xiaomi Redmi Note 11 4GB - 64GB,/dien-thoai/xiaomi-redmi-note-11-4g?dung-luong=64gb,4.490.000 ₫,,4.490.000 ₫,64GB,4 GB,6.43 inch,64 GB,4.690.000 ₫\\n64,Xiaomi Redmi 10 4GB-128GB,/dien-thoai/xiaomi-redmi-10?dung-luong=128-gb,,4.290.000 ₫,,128 GB,4 GB,6.5 inch,128 GB,\\n65,Xiaomi Redmi 10 2022 4GB-128GB,/dien-thoai/xiaomi-redmi-10-2022,,4.290.000 ₫,,,4 GB,6.5 inch,128 GB,\\n66,Realme C25y 4GB-128GB,/dien-thoai/realme-c25y,,,3.990.000 ₫,,4 GB,6.5 inch,128 GB,\\n67,OPPO A16 3GB-32GB,/dien-thoai/oppo-a16,,,3.790.000 ₫,,3 GB,6.52 inch,32 GB,\\n68,Samsung Galaxy A03s,/dien-thoai/samsung-galaxy-a03s,,3.690.000 ₫,,,4 GB,6.5 inch,64 GB,\\n69,Xiaomi Redmi 9C 4GB-128GB,/dien-thoai/xiaomi-redmi-9c-4gb-128gb,3.290.000 ₫,,3.290.000 ₫,4GB-128GB,4 GB,6.53 inch,128 GB,3.490.000 ₫\\n70,Nokia G10 4GB-64GB,/dien-thoai/nokia-g10,,,3.190.000 ₫,,4 GB,6.52 inch,64 GB,\\n71,Samsung Galaxy A03,/dien-thoai/samsung-galaxy-a03,,2.990.000 ₫,,,3 GB,6.5 inch,32 GB,\\n72,TECNO SPARK 7T 4GB-64GB,/dien-thoai/tecno-spark-7t,,2.990.000 ₫,,,4 GB,6.52 inch,64 GB,\\n73,Nokia C21 Plus 3GB-32GB,/dien-thoai/nokia-c21-plus,,,2.790.000 ₫,,3 GB,6.52 inch,32 GB,\\n74,Realme C21y 3GB - 32GB,/dien-thoai/realme-c21y?dung-luong=32gb,2.690.000 ₫,,2.690.000 ₫,32GB,3 GB,6.5 inch,32 GB,3.190.000 ₫\\n75,Realme C11 2021 2GB - 32GB,/dien-thoai/realme-c11-2021?dung-luong=2gb-32gb,2.690.000 ₫,,2.690.000 ₫,2GB-32GB,2 GB,6.5 inch,32 GB,2.990.000 ₫\\n76,TECNO SPARK 7 2GB-32GB,/dien-thoai/tecno-spark-7,,2.390.000 ₫,,,2 GB,6.5 inch,32 GB,\\n77,Nokia C20 2GB - 32GB,/dien-thoai/nokia-c20,,2.190.000 ₫,,,2 GB,6.5 inch,32 GB,\\n78,Nokia 215 DS 4G,/dien-thoai/nokia-215-ds-4g,,900.000 ₫,,,64 MB,2.4 inch,,\\n79,Nokia 110 DS 4G,/dien-thoai/nokia-110-4g,,850.000 ₫,,,48 MB,1.8 inch,128 MB,\\n80,Nokia 105 DS 4G,/dien-thoai/nokia-105-4g,,750.000 ₫,,,48 MB,1.8 inch,128 MB,\\n81,Masstel Fami 60 4G,/dien-thoai/masstel-fami-60-4g,,749.000 ₫,,,,,,\\n82,Masstel Izi 55 4G,/dien-thoai/masstel-izi-55-4g,,699.000 ₫,,,,,,\\n83,Masstel Fami 12 4G,/dien-thoai/masstel-fami-12-4g,,649.000 ₫,,,,,,\\n84,Masstel Izi 20 4G,/dien-thoai/masstel-izi-20-4g,,549.000 ₫,,,,,,\\n85,Masstel Izi 10 4G,/dien-thoai/masstel-izi-10-4g,,499.000 ₫,,,,,,\\n86,Masstel Izi 12 4G,/dien-thoai/masstel-izi-12-4g,,499.000 ₫,,,48 MB,1.77 inch,128 MB,\\n87,Nokia 105 DS (2019),/dien-thoai/nokia-105-ds-2019,,490.000 ₫,,,,4 MB,,\\n88,Nokia 105 SS (2019),/dien-thoai/nokia-105-ss-2019,,480.000 ₫,,,,4 MB,,\\n89,Xiaomi Mi 9 Pro,/dien-thoai/xiaomi-mi-9-pro,,,,,,,,\\n90,Xiaomi Mi 9 Pro 5G,/dien-thoai/xiaomi-mi-9-pro-5g,,,,,,,,\\n91,Huawei Mate 30 5G,/dien-thoai/huawei-mate-30-5g,,,,,,,,\\n92,Huawei Mate 30 Pro 5G,/dien-thoai/huawei-mate-30-pro-5g,,,,,,,,\\n93,Huawei Mate 30 RS Porsche Design,/dien-thoai/huawei-mate-30-rs-porsche-design,,,,,,,,\\n94,Honor 8S,/dien-thoai/honor-8s,,,,,,,,\\n95,Honor Play 3e,/dien-thoai/honor-play-3e,,,,,,,,\\n96,Realme X2,/dien-thoai/realme-x2,,,,,,,,\\n97,Realme X2 Pro,/dien-thoai/realme-x2-pro,,,,,,,,\\n98,Huawei Y6s,/dien-thoai/huawei-y6s,,,,,,,,\\n'"
      ]
     },
     "execution_count": 7,
     "metadata": {},
     "output_type": "execute_result"
    }
   ],
   "source": [
    "datafpt1_csv"
   ]
  },
  {
   "cell_type": "code",
   "execution_count": 5,
   "id": "sharing-value",
   "metadata": {},
   "outputs": [
    {
     "ename": "ValueError",
     "evalue": "DataFrame constructor not properly called!",
     "output_type": "error",
     "traceback": [
      "\u001b[0;31m---------------------------------------------------------------------------\u001b[0m",
      "\u001b[0;31mValueError\u001b[0m                                Traceback (most recent call last)",
      "\u001b[0;32m<ipython-input-5-69231ed4d2da>\u001b[0m in \u001b[0;36m<module>\u001b[0;34m\u001b[0m\n\u001b[0;32m----> 1\u001b[0;31m df_datafpt1= pd.DataFrame(datafpt1_csv,\n\u001b[0m\u001b[1;32m      2\u001b[0m                        columns=['name','url','price_selloff','price1','price2','memory1','hard_drive','size','memory','price'])\n\u001b[1;32m      3\u001b[0m \u001b[0mdf_datafpt1\u001b[0m\u001b[0;34m.\u001b[0m\u001b[0mhead\u001b[0m\u001b[0;34m(\u001b[0m\u001b[0;34m)\u001b[0m\u001b[0;34m\u001b[0m\u001b[0;34m\u001b[0m\u001b[0m\n",
      "\u001b[0;32m~/opt/anaconda3/lib/python3.8/site-packages/pandas/core/frame.py\u001b[0m in \u001b[0;36m__init__\u001b[0;34m(self, data, index, columns, dtype, copy)\u001b[0m\n\u001b[1;32m    588\u001b[0m         \u001b[0;32melse\u001b[0m\u001b[0;34m:\u001b[0m\u001b[0;34m\u001b[0m\u001b[0;34m\u001b[0m\u001b[0m\n\u001b[1;32m    589\u001b[0m             \u001b[0;32mif\u001b[0m \u001b[0mindex\u001b[0m \u001b[0;32mis\u001b[0m \u001b[0;32mNone\u001b[0m \u001b[0;32mor\u001b[0m \u001b[0mcolumns\u001b[0m \u001b[0;32mis\u001b[0m \u001b[0;32mNone\u001b[0m\u001b[0;34m:\u001b[0m\u001b[0;34m\u001b[0m\u001b[0;34m\u001b[0m\u001b[0m\n\u001b[0;32m--> 590\u001b[0;31m                 \u001b[0;32mraise\u001b[0m \u001b[0mValueError\u001b[0m\u001b[0;34m(\u001b[0m\u001b[0;34m\"DataFrame constructor not properly called!\"\u001b[0m\u001b[0;34m)\u001b[0m\u001b[0;34m\u001b[0m\u001b[0;34m\u001b[0m\u001b[0m\n\u001b[0m\u001b[1;32m    591\u001b[0m \u001b[0;34m\u001b[0m\u001b[0m\n\u001b[1;32m    592\u001b[0m             \u001b[0;32mif\u001b[0m \u001b[0;32mnot\u001b[0m \u001b[0mdtype\u001b[0m\u001b[0;34m:\u001b[0m\u001b[0;34m\u001b[0m\u001b[0;34m\u001b[0m\u001b[0m\n",
      "\u001b[0;31mValueError\u001b[0m: DataFrame constructor not properly called!"
     ]
    }
   ],
   "source": [
    "df_datafpt1= pd.DataFrame(datafpt1_csv,\n",
    "                       columns=['name','url','price_selloff','price1','price2','memory1',\n",
    "                                'hard_drive','size','memory','price'])\n",
    "df_datafpt1.head()"
   ]
  },
  {
   "cell_type": "code",
   "execution_count": null,
   "id": "impossible-staff",
   "metadata": {},
   "outputs": [],
   "source": []
  },
  {
   "cell_type": "code",
   "execution_count": null,
   "id": "quality-actor",
   "metadata": {},
   "outputs": [],
   "source": []
  },
  {
   "cell_type": "code",
   "execution_count": null,
   "id": "distant-channel",
   "metadata": {},
   "outputs": [],
   "source": []
  },
  {
   "cell_type": "code",
   "execution_count": null,
   "id": "special-prime",
   "metadata": {},
   "outputs": [],
   "source": []
  },
  {
   "cell_type": "code",
   "execution_count": null,
   "id": "special-qatar",
   "metadata": {},
   "outputs": [],
   "source": []
  },
  {
   "cell_type": "code",
   "execution_count": null,
   "id": "worst-import",
   "metadata": {},
   "outputs": [],
   "source": []
  },
  {
   "cell_type": "code",
   "execution_count": null,
   "id": "atmospheric-consideration",
   "metadata": {},
   "outputs": [],
   "source": []
  },
  {
   "cell_type": "code",
   "execution_count": null,
   "id": "desperate-horizon",
   "metadata": {},
   "outputs": [],
   "source": []
  },
  {
   "cell_type": "code",
   "execution_count": null,
   "id": "hindu-stone",
   "metadata": {},
   "outputs": [],
   "source": []
  },
  {
   "cell_type": "code",
   "execution_count": null,
   "id": "accessory-aluminum",
   "metadata": {},
   "outputs": [],
   "source": []
  },
  {
   "cell_type": "code",
   "execution_count": null,
   "id": "lucky-burton",
   "metadata": {},
   "outputs": [],
   "source": []
  },
  {
   "cell_type": "code",
   "execution_count": null,
   "id": "scientific-mixture",
   "metadata": {},
   "outputs": [],
   "source": []
  },
  {
   "cell_type": "code",
   "execution_count": null,
   "id": "pressing-gasoline",
   "metadata": {},
   "outputs": [],
   "source": []
  },
  {
   "cell_type": "code",
   "execution_count": null,
   "id": "distant-cologne",
   "metadata": {},
   "outputs": [],
   "source": []
  },
  {
   "cell_type": "code",
   "execution_count": null,
   "id": "printable-collective",
   "metadata": {},
   "outputs": [],
   "source": []
  },
  {
   "cell_type": "code",
   "execution_count": null,
   "id": "thorough-dragon",
   "metadata": {},
   "outputs": [],
   "source": []
  },
  {
   "cell_type": "code",
   "execution_count": null,
   "id": "latin-atlanta",
   "metadata": {},
   "outputs": [],
   "source": []
  },
  {
   "cell_type": "code",
   "execution_count": null,
   "id": "ruled-facial",
   "metadata": {},
   "outputs": [],
   "source": []
  },
  {
   "cell_type": "code",
   "execution_count": null,
   "id": "continuing-clarity",
   "metadata": {},
   "outputs": [],
   "source": []
  },
  {
   "cell_type": "code",
   "execution_count": null,
   "id": "heavy-tribute",
   "metadata": {},
   "outputs": [],
   "source": []
  }
 ],
 "metadata": {
  "kernelspec": {
   "display_name": "Python 3",
   "language": "python",
   "name": "python3"
  },
  "language_info": {
   "codemirror_mode": {
    "name": "ipython",
    "version": 3
   },
   "file_extension": ".py",
   "mimetype": "text/x-python",
   "name": "python",
   "nbconvert_exporter": "python",
   "pygments_lexer": "ipython3",
   "version": "3.8.8"
  }
 },
 "nbformat": 4,
 "nbformat_minor": 5
}
